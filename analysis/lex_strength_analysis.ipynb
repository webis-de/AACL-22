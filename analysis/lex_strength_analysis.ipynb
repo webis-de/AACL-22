{
 "cells": [
  {
   "cell_type": "code",
   "execution_count": 1,
   "id": "31b7b094",
   "metadata": {
    "scrolled": false
   },
   "outputs": [
    {
     "name": "stderr",
     "output_type": "stream",
     "text": [
      "/Users/user/miniconda3/envs/exaggerated_language/lib/python3.6/site-packages/requests/__init__.py:104: RequestsDependencyWarning: urllib3 (1.26.9) or chardet (5.0.0)/charset_normalizer (2.0.12) doesn't match a supported version!\n",
      "  RequestsDependencyWarning)\n"
     ]
    }
   ],
   "source": [
    "from bs4 import BeautifulSoup\n",
    "import requests\n",
    "from requests.structures import CaseInsensitiveDict\n",
    "import pandas as pd\n",
    "import string\n",
    "import re\n",
    "\n",
    "def cleanhtml(raw_html):\n",
    "    cleanr = re.compile('<.*?>')\n",
    "    cleantext = re.sub(cleanr, '', raw_html)\n",
    "    return cleantext\n",
    "\n",
    "\n",
    "\n",
    "\n",
    "def extract_argument(html_template, id_instance):\n",
    "    args = []\n",
    "    with open(html_template) as fp:\n",
    "        soup = BeautifulSoup(fp, \"html.parser\")\n",
    "    divTag = soup.find_all(\"div\", {\"id\": id_instance})\n",
    "    for tag in divTag:\n",
    "        title = tag.find_all(\"h1\")\n",
    "        title = ' '.join(cleanhtml(str(title[0])).split())\n",
    "    \n",
    "        tdTags = tag.find_all(\"div\", {\"class\": \"container-box\"})\n",
    "        for tag in tdTags:\n",
    "\n",
    "            p = tag.find('p').getText()\n",
    "            args.append(p.rstrip('\\r\\n'))\n",
    "\n",
    "    args=[re.sub(r'[\\W\\s]', ' ', e.lstrip().rstrip()).lower().rstrip().lstrip() \\\n",
    "          for e in args]\n",
    "    d = {title:args}\n",
    "    return d\n",
    "\n",
    "\n",
    "def extract_argumentations_from_hit(html_template):\n",
    "    d = {\n",
    "        'section_1': extract_argument(html_template, \"id_1\"),\n",
    "        'section_2': extract_argument(html_template, \"id_2\"),\n",
    "        'section_3': extract_argument(html_template, \"id_3\"),\n",
    "        'section_4': extract_argument(html_template, \"type3\"),\n",
    "        'section_5': extract_argument(html_template, \"id_1\")}\n",
    "    return d\n",
    "\n",
    "def get_args(hit):\n",
    "    a_lis = []\n",
    "    for e in hit.values():\n",
    "        for e in e.values():\n",
    "            a_lis.append(e)\n",
    "    args = [', '.join(e) for e in a_lis][:4]\n",
    "    return pd.DataFrame(args)\n",
    "\n"
   ]
  },
  {
   "cell_type": "code",
   "execution_count": 2,
   "id": "f1b83a67",
   "metadata": {
    "scrolled": false
   },
   "outputs": [
    {
     "data": {
      "text/html": [
       "<div>\n",
       "<style scoped>\n",
       "    .dataframe tbody tr th:only-of-type {\n",
       "        vertical-align: middle;\n",
       "    }\n",
       "\n",
       "    .dataframe tbody tr th {\n",
       "        vertical-align: top;\n",
       "    }\n",
       "\n",
       "    .dataframe thead th {\n",
       "        text-align: right;\n",
       "    }\n",
       "</style>\n",
       "<table border=\"1\" class=\"dataframe\">\n",
       "  <thead>\n",
       "    <tr style=\"text-align: right;\">\n",
       "      <th></th>\n",
       "      <th>0</th>\n",
       "    </tr>\n",
       "  </thead>\n",
       "  <tbody>\n",
       "    <tr>\n",
       "      <th>0</th>\n",
       "      <td>while it is true that it is considered worse t...</td>\n",
       "    </tr>\n",
       "    <tr>\n",
       "      <th>1</th>\n",
       "      <td>for example  it is responsible to use a cell p...</td>\n",
       "    </tr>\n",
       "    <tr>\n",
       "      <th>2</th>\n",
       "      <td>if an individual wants to live in the forest i...</td>\n",
       "    </tr>\n",
       "  </tbody>\n",
       "</table>\n",
       "</div>"
      ],
      "text/plain": [
       "                                                   0\n",
       "0  while it is true that it is considered worse t...\n",
       "1  for example  it is responsible to use a cell p...\n",
       "2  if an individual wants to live in the forest i..."
      ]
     },
     "execution_count": 2,
     "metadata": {},
     "output_type": "execute_result"
    }
   ],
   "source": [
    "hit_1 = extract_argumentations_from_hit(\"../experiments/cs1/surveys/stance_surveys/stance_hit_1.html\")\n",
    "hit_2 = extract_argumentations_from_hit(\"../experiments/cs1/surveys/stance_surveys/stance_hit_2.html\")\n",
    "hit_3 = extract_argumentations_from_hit(\"../experiments/cs1/surveys/stance_surveys/stance_hit_3.html\")\n",
    "hit_4 = extract_argumentations_from_hit(\"../experiments/cs1/surveys/stance_surveys/stance_hit_4.html\")\n",
    "hit_5 = extract_argumentations_from_hit(\"../experiments/cs1/surveys/stance_surveys/stance_hit_5.html\")\n",
    "hit_6 = extract_argumentations_from_hit(\"../experiments/cs1/surveys/stance_surveys/stance_hit_6.html\")\n",
    "hit_7 = extract_argumentations_from_hit(\"../experiments/cs1/surveys/stance_surveys/stance_hit_7.html\")\n",
    "hit_8 = extract_argumentations_from_hit(\"../experiments/cs1/surveys/stance_surveys/stance_hit_8.html\")\n",
    "hit_9 = extract_argumentations_from_hit(\"../experiments/cs1/surveys/stance_surveys/stance_hit_9.html\")\n",
    "hit_10 = extract_argumentations_from_hit(\"../experiments/cs1/surveys/stance_surveys/stance_hit_10.html\")\n",
    "\n",
    "\n",
    "\n",
    "hit_1 = get_args(hit_1)\n",
    "hit_2 = get_args(hit_2)\n",
    "hit_3 = get_args(hit_3)\n",
    "hit_4 = get_args(hit_4)\n",
    "hit_5 = get_args(hit_5)\n",
    "hit_6 = get_args(hit_6)\n",
    "hit_7 = get_args(hit_7)\n",
    "hit_8 = get_args(hit_8)\n",
    "hit_9 = get_args(hit_9)\n",
    "hit_10 = get_args(hit_10)\n",
    "\n",
    "\n",
    "pd.concat([hit_1, hit_2, hit_3, hit_4, hit_5, hit_6, hit_7, hit_8, hit_9, hit_10],\n",
    "          ignore_index=True).head(3)"
   ]
  },
  {
   "cell_type": "markdown",
   "id": "5b1c2c71",
   "metadata": {},
   "source": [
    "## CS2"
   ]
  },
  {
   "cell_type": "code",
   "execution_count": 3,
   "id": "33577ad8",
   "metadata": {},
   "outputs": [
    {
     "data": {
      "text/html": [
       "<div>\n",
       "<style scoped>\n",
       "    .dataframe tbody tr th:only-of-type {\n",
       "        vertical-align: middle;\n",
       "    }\n",
       "\n",
       "    .dataframe tbody tr th {\n",
       "        vertical-align: top;\n",
       "    }\n",
       "\n",
       "    .dataframe thead th {\n",
       "        text-align: right;\n",
       "    }\n",
       "</style>\n",
       "<table border=\"1\" class=\"dataframe\">\n",
       "  <thead>\n",
       "    <tr style=\"text-align: right;\">\n",
       "      <th></th>\n",
       "      <th>0</th>\n",
       "    </tr>\n",
       "  </thead>\n",
       "  <tbody>\n",
       "    <tr>\n",
       "      <th>0</th>\n",
       "      <td>while it is true that it is considered worse t...</td>\n",
       "    </tr>\n",
       "    <tr>\n",
       "      <th>1</th>\n",
       "      <td>for example  it is responsible to use a cell p...</td>\n",
       "    </tr>\n",
       "    <tr>\n",
       "      <th>2</th>\n",
       "      <td>if an individual wants to live in the forest i...</td>\n",
       "    </tr>\n",
       "  </tbody>\n",
       "</table>\n",
       "</div>"
      ],
      "text/plain": [
       "                                                   0\n",
       "0  while it is true that it is considered worse t...\n",
       "1  for example  it is responsible to use a cell p...\n",
       "2  if an individual wants to live in the forest i..."
      ]
     },
     "execution_count": 3,
     "metadata": {},
     "output_type": "execute_result"
    }
   ],
   "source": [
    "hit_1 = extract_argumentations_from_hit(\"../experiments/cs2/surveys/stance_surveys/stance_hit_1.html\")\n",
    "hit_2 = extract_argumentations_from_hit(\"../experiments/cs2/surveys/stance_surveys/stance_hit_2.html\")\n",
    "hit_3 = extract_argumentations_from_hit(\"../experiments/cs2/surveys/stance_surveys/stance_hit_3.html\")\n",
    "hit_4 = extract_argumentations_from_hit(\"../experiments/cs2/surveys/stance_surveys/stance_hit_4.html\")\n",
    "hit_5 = extract_argumentations_from_hit(\"../experiments/cs2/surveys/stance_surveys/stance_hit_5.html\")\n",
    "hit_6 = extract_argumentations_from_hit(\"../experiments/cs2/surveys/stance_surveys/stance_hit_6.html\")\n",
    "hit_7 = extract_argumentations_from_hit(\"../experiments/cs2/surveys/stance_surveys/stance_hit_7.html\")\n",
    "hit_8 = extract_argumentations_from_hit(\"../experiments/cs2/surveys/stance_surveys/stance_hit_8.html\")\n",
    "hit_9 = extract_argumentations_from_hit(\"../experiments/cs2/surveys/stance_surveys/stance_hit_9.html\")\n",
    "hit_10 = extract_argumentations_from_hit(\"../experiments/cs2/surveys/stance_surveys/stance_hit_10.html\")\n",
    "\n",
    "\n",
    "\n",
    "\n",
    "hit_1 = get_args(hit_1)\n",
    "hit_2 = get_args(hit_2)\n",
    "hit_3 = get_args(hit_3)\n",
    "hit_4 = get_args(hit_4)\n",
    "hit_5 = get_args(hit_5)\n",
    "hit_6 = get_args(hit_6)\n",
    "hit_7 = get_args(hit_7)\n",
    "hit_8 = get_args(hit_8)\n",
    "hit_9 = get_args(hit_9)\n",
    "hit_10 = get_args(hit_10)\n",
    "\n",
    "\n",
    "pd.concat([hit_1, hit_2, hit_3, hit_4, hit_5, hit_6, hit_7, hit_8, hit_9, hit_10],\n",
    "          ignore_index=True).head(3)"
   ]
  },
  {
   "cell_type": "markdown",
   "id": "b20669fb",
   "metadata": {},
   "source": [
    "## Lexical Analysis"
   ]
  },
  {
   "cell_type": "code",
   "execution_count": 4,
   "id": "e4829b78",
   "metadata": {},
   "outputs": [],
   "source": [
    "df = pd.read_csv('../data/crowdsourced/LIWC-22-1.csv')\n"
   ]
  },
  {
   "cell_type": "code",
   "execution_count": 5,
   "id": "d0c771f6",
   "metadata": {},
   "outputs": [],
   "source": [
    "strength = df[['Tone', 'tone_pos', \n",
    "    'tone_neg', 'emotion',  \n",
    "    'emo_pos', 'emo_neg', 'emo_anx', \n",
    "    'emo_anger', \n",
    "    'emo_sad', 'swear']].mean()\n",
    "\n",
    "df1 = pd.DataFrame(strength, columns=['lexical strength'])"
   ]
  },
  {
   "cell_type": "code",
   "execution_count": 6,
   "id": "05aada71",
   "metadata": {},
   "outputs": [],
   "source": [
    "df = pd.read_csv('../data/crowdsourced/LIWC-22-2.csv')\n"
   ]
  },
  {
   "cell_type": "code",
   "execution_count": 7,
   "id": "2d6a4ffa",
   "metadata": {},
   "outputs": [],
   "source": [
    "strength = df[['Tone', 'tone_pos', \n",
    "    'tone_neg', 'emotion',  \n",
    "    'emo_pos', 'emo_neg', 'emo_anx', \n",
    "    'emo_anger', \n",
    "    'emo_sad', 'swear']].mean()\n",
    "\n",
    "df2 = pd.DataFrame(strength, columns=['lexical strength'])"
   ]
  },
  {
   "cell_type": "code",
   "execution_count": 8,
   "id": "cab85c0f",
   "metadata": {},
   "outputs": [],
   "source": [
    "d = pd.DataFrame(pd.concat([df1, df2], axis=1)[['lexical strength','lexical strength']].mean(axis=1)).reset_index(level=0)\n",
    "d.columns = ['LIWC Dimension', 'Score']\n",
    "d['LIWC Dimension'] = d['LIWC Dimension'].apply(lambda x: ' '.join(x.split('_')).title())"
   ]
  },
  {
   "cell_type": "code",
   "execution_count": 9,
   "id": "6bc2b8de",
   "metadata": {},
   "outputs": [
    {
     "name": "stderr",
     "output_type": "stream",
     "text": [
      "/Users/user/miniconda3/envs/exaggerated_language/lib/python3.6/site-packages/ipykernel_launcher.py:10: UserWarning: FixedFormatter should only be used together with FixedLocator\n",
      "  # Remove the CWD from sys.path while we load stuff.\n",
      "/Users/user/miniconda3/envs/exaggerated_language/lib/python3.6/site-packages/ipykernel_launcher.py:11: UserWarning: FixedFormatter should only be used together with FixedLocator\n",
      "  # This is added back by InteractiveShellApp.init_path()\n"
     ]
    },
    {
     "data": {
      "image/png": "[encoded data removed]",
      "text/plain": [
       "<Figure size 216x576 with 1 Axes>"
      ]
     },
     "metadata": {
      "needs_background": "light"
     },
     "output_type": "display_data"
    }
   ],
   "source": [
    "from matplotlib import pyplot as plt\n",
    "import seaborn as sns\n",
    "plt.figure(figsize=(3,8))\n",
    "sns.set(font_scale = 40)\n",
    "custom_params = {\"axes.spines.right\": False, \"axes.spines.top\": False}\n",
    "sns.set_theme(style=\"ticks\", rc=custom_params)\n",
    "sns.set_style(\"darkgrid\")\n",
    "ax = sns.barplot(x='Score', y=\"LIWC Dimension\", data=d, orient='h')\n",
    "ax.set_yticklabels(ax.get_ymajorticklabels(), fontsize = 15)\n",
    "ax.set_xticklabels(ax.get_yticks(), size = 15)\n",
    "ax.set_xticklabels(ax.get_xticks(), size = 15)\n",
    "ax.set_xlabel('Lexical Tone Score',fontsize=15);\n",
    "ax.set_ylabel('LIWC Dimension',fontsize=15);\n",
    "plt.show()"
   ]
  },
  {
   "cell_type": "code",
   "execution_count": null,
   "id": "0e6b4a15",
   "metadata": {},
   "outputs": [],
   "source": []
  }
 ],
 "metadata": {
  "kernelspec": {
   "display_name": "Python 3",
   "language": "python",
   "name": "python3"
  },
  "language_info": {
   "codemirror_mode": {
    "name": "ipython",
    "version": 3
   },
   "file_extension": ".py",
   "mimetype": "text/x-python",
   "name": "python",
   "nbconvert_exporter": "python",
   "pygments_lexer": "ipython3",
   "version": "3.6.13"
  }
 },
 "nbformat": 4,
 "nbformat_minor": 5
}
