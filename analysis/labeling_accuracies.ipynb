{
 "cells": [
  {
   "cell_type": "code",
   "execution_count": 1,
   "id": "cfd45bfd",
   "metadata": {
    "scrolled": false
   },
   "outputs": [],
   "source": [
    "import pandas as pd\n",
    "import numpy as np\n",
    "\n",
    "\n",
    "def percentage_distro(e):\n",
    "    return np.around((e*100)/72,2)\n",
    "    \n",
    "\n",
    "\n",
    "df = pd.read_csv('../data/crowdsourced/labeling_accuracies.csv', sep=\",\")\n",
    "distros = list(set(df['distro'].tolist()))\n",
    "\n",
    "df['total'] = df['con_distro']+df['neu_distro']+df['pro_distro']+df['unk_distro']\n",
    "\n",
    "\n",
    "df['con_distro_per'] = df['con_distro'].apply(percentage_distro)\n",
    "df['neu_distro_per'] = df['neu_distro'].apply(percentage_distro)\n",
    "df['pro_distro_per'] = df['pro_distro'].apply(percentage_distro)\n",
    "df['unk_distro_per'] = df['unk_distro'].apply(percentage_distro)\n",
    "\n",
    "df['total_per'] = df['con_distro_per']+df['neu_distro_per']+df['pro_distro_per']+df['unk_distro_per']"
   ]
  },
  {
   "cell_type": "markdown",
   "id": "090e646b",
   "metadata": {},
   "source": [
    "### Total Accuracies"
   ]
  },
  {
   "cell_type": "code",
   "execution_count": 2,
   "id": "6858cea2",
   "metadata": {},
   "outputs": [
    {
     "name": "stdout",
     "output_type": "stream",
     "text": [
      "distro|acc_avg\n",
      "---------------\n",
      "0:2   |0.55\n",
      "2:2   |0.76\n",
      "4:4   |0.62\n",
      "2:4   |0.44\n",
      "0:4   |0.76\n",
      "0:0   |0.84\n",
      "-----------\n",
      "       0.66\n"
     ]
    }
   ],
   "source": [
    "total = []\n",
    "print(\"distro|acc_avg\")\n",
    "print(\"---------------\")\n",
    "for e in distros:\n",
    "    vals = np.around(np.mean(df.query(f\"distro=='{e}'\")['acc'].values),2)\n",
    "    total.append(vals)\n",
    "    print(f\"{e}   |{vals}\")\n",
    "print(\"-----------\")\n",
    "print(f\"       {np.around(np.mean(np.hstack(total)),2)}\")\n",
    "# print(total)"
   ]
  },
  {
   "cell_type": "markdown",
   "id": "1e3f004c",
   "metadata": {},
   "source": [
    "### Total Precisions Pro/Con"
   ]
  },
  {
   "cell_type": "code",
   "execution_count": 3,
   "id": "3e6e5ba1",
   "metadata": {},
   "outputs": [
    {
     "name": "stdout",
     "output_type": "stream",
     "text": [
      "dist| pro|con\n",
      "-------------\n",
      "0:2 |0.52 |0.6\n",
      "2:2 |0.8 |0.66\n",
      "4:4 |0.61 |0.4\n",
      "2:4 |0.44 |0.35\n",
      "0:4 |0.8 |0.62\n",
      "0:0 |0.8 |0.9\n",
      "     0.66|0.59\n"
     ]
    }
   ],
   "source": [
    "print(\"dist| pro|con\")\n",
    "print(\"-------------\")\n",
    "total_pro = []\n",
    "total_con = []\n",
    "for e in distros:\n",
    "    pro_vals = np.around(np.mean(df.query(f\"distro=='{e}'\")['pro_prec'].values),2)\n",
    "    con_vals = np.around(np.mean(df.query(f\"distro=='{e}'\")['con_prec'].values),2)\n",
    "    total_pro.append(pro_vals)\n",
    "    total_con.append(con_vals)\n",
    "\n",
    "    print(f\"{e} |{pro_vals} |{con_vals}\")\n",
    "    \n",
    "    \n",
    "print(f\"     {np.round(np.mean(total_pro),2)}|{np.round(np.mean(total_con),2)}\")"
   ]
  },
  {
   "cell_type": "markdown",
   "id": "714e1730",
   "metadata": {},
   "source": [
    "### Precisions for Setup 1 and Setup 2\n",
    "\n",
    "#### Setup 1"
   ]
  },
  {
   "cell_type": "code",
   "execution_count": 4,
   "id": "780bc74e",
   "metadata": {},
   "outputs": [
    {
     "name": "stdout",
     "output_type": "stream",
     "text": [
      "dist|pro |con\n",
      "-------------\n",
      "0:2|0.2 |0.28\n",
      "2:2|0.72 |0.61\n",
      "4:4|0.57 |0.4\n",
      "2:4|0.58 |0.25\n",
      "0:4|0.82 |0.58\n",
      "0:0|0.71 |0.88\n",
      "--------------\n",
      "    0.6 |0.5\n"
     ]
    }
   ],
   "source": [
    "# setup 1\n",
    "total_pro = []\n",
    "total_con = []\n",
    "print(\"dist|pro |con\")\n",
    "print(\"-------------\")\n",
    "for e in distros:\n",
    "    pro_vals = np.around(np.mean(df.query(f\"distro=='{e}' and setup=='setup_1'\")['pro_prec'].values),2)\n",
    "    con_vals = np.around(np.mean(df.query(f\"distro=='{e}' and setup=='setup_1'\")['con_prec'].values),2)\n",
    "    total_pro.append(pro_vals)\n",
    "    total_con.append(con_vals)    \n",
    "    print(f\"{e}|{pro_vals} |{np.around(np.mean(con_vals),2)}\")\n",
    "    \n",
    "print(\"--------------\")\n",
    "print(f\"    {np.around(np.nanmean(np.hstack(total_pro)),2)} |{np.around(np.nanmean(np.hstack(total_con)),2)}\")\n"
   ]
  },
  {
   "cell_type": "markdown",
   "id": "e04203d8",
   "metadata": {},
   "source": [
    "#### Setup 2"
   ]
  },
  {
   "cell_type": "code",
   "execution_count": 5,
   "id": "95f1ea7a",
   "metadata": {},
   "outputs": [
    {
     "name": "stdout",
     "output_type": "stream",
     "text": [
      "dist|pro |con\n",
      "-------------\n",
      "0:2|0.85 |0.91\n",
      "2:2|0.89 |0.72\n",
      "4:4|0.68 |0.42\n",
      "2:4|0.37 |0.4\n",
      "0:4|0.8 |0.66\n",
      "0:0|0.88 |0.92\n",
      "--------------\n",
      "    0.74 |0.67\n"
     ]
    }
   ],
   "source": [
    "# setup 2\n",
    "total_pro = []\n",
    "total_con = []\n",
    "print(\"dist|pro |con\")\n",
    "print(\"-------------\")\n",
    "for e in distros:\n",
    "    pro_vals = np.around(np.mean(df.query(f\"distro=='{e}' and setup=='setup_2'\")['pro_prec'].values),2)\n",
    "    con_vals = np.around(np.mean(df.query(f\"distro=='{e}' and setup=='setup_2'\")['con_prec'].values),2)\n",
    "    total_pro.append(pro_vals)\n",
    "    total_con.append(con_vals)    \n",
    "    print(f\"{e}|{pro_vals} |{np.around(np.mean(con_vals),2)}\")\n",
    "    \n",
    "print(\"--------------\")\n",
    "print(f\"    {np.around(np.nanmean(np.hstack(total_pro)),2)} |{np.around(np.nanmean(np.hstack(total_con)),2)}\")\n"
   ]
  },
  {
   "cell_type": "code",
   "execution_count": null,
   "id": "149229ed",
   "metadata": {},
   "outputs": [],
   "source": []
  },
  {
   "cell_type": "code",
   "execution_count": null,
   "id": "ed1ee07f",
   "metadata": {},
   "outputs": [],
   "source": []
  }
 ],
 "metadata": {
  "kernelspec": {
   "display_name": "Python 3",
   "language": "python",
   "name": "python3"
  },
  "language_info": {
   "codemirror_mode": {
    "name": "ipython",
    "version": 3
   },
   "file_extension": ".py",
   "mimetype": "text/x-python",
   "name": "python",
   "nbconvert_exporter": "python",
   "pygments_lexer": "ipython3",
   "version": "3.6.13"
  }
 },
 "nbformat": 4,
 "nbformat_minor": 5
}
