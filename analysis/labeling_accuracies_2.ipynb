{
 "cells": [
  {
   "cell_type": "code",
   "execution_count": 1,
   "id": "766ca6b1",
   "metadata": {},
   "outputs": [],
   "source": [
    "import os\n",
    "import pandas as pd\n",
    "import numpy as np\n",
    "import glob\n",
    "from sklearn.metrics import accuracy_score, classification_report\n",
    "\n",
    "\n",
    "\n",
    "def get_labels_fix(e):\n",
    "    if e == '1':\n",
    "        return 'pro'\n",
    "    elif e == '2':\n",
    "        return 'con'\n",
    "    elif e == '3':\n",
    "        return 'unk'\n",
    "    elif e == '4':\n",
    "        return 'neutral'\n",
    "    \n",
    "    \n",
    "def wrangle_argument(a_df, worker_id_col):\n",
    "    hit = pd.concat([worker_id_col, a_df], axis=1)\n",
    "    a_df = hit.set_index('id_worker')\n",
    "    a_df = a_df.dot(a_df.columns).to_frame('original_answer').reset_index()\n",
    "    a_df['original_answer'] = a_df['original_answer'].apply(lambda x : ' '.join(x.split('.')[-1:]))\n",
    "    a_df['correct_ans'] = a_df['original_answer'].apply(lambda x : ' '.join(x.split('-')[1]))\n",
    "    a_df['original_answer'] = a_df['original_answer'].apply(lambda x : ' '.join(x.split('-')[0]))\n",
    "    a_df['id_worker'] = a_df['id_worker'].apply(lambda x : x[0])\n",
    "    a_df['original_answer'] = a_df['original_answer'].apply(get_labels_fix)\n",
    "    a_df['correct_ans'] = a_df['correct_ans'].apply(get_labels_fix)\n",
    "    return a_df    \n",
    "    \n",
    "    "
   ]
  },
  {
   "cell_type": "code",
   "execution_count": 2,
   "id": "00928992",
   "metadata": {},
   "outputs": [
    {
     "name": "stdout",
     "output_type": "stream",
     "text": [
      "acc:  0.8888888888888888\n",
      "              precision    recall  f1-score   support\n",
      "\n",
      "         con       0.94      0.92      0.93        37\n",
      "     neutral       0.00      0.00      0.00         1\n",
      "         pro       0.83      0.97      0.90        31\n",
      "         unk       0.00      0.00      0.00         3\n",
      "\n",
      "    accuracy                           0.89        72\n",
      "   macro avg       0.44      0.47      0.46        72\n",
      "weighted avg       0.84      0.89      0.86        72\n",
      "\n"
     ]
    }
   ],
   "source": [
    "\n",
    "hit_1 = pd.read_csv(\"../data/crowdsourced/cs2/hit_1_raw.csv\").reset_index(drop=True)\n",
    "\n",
    "\n",
    "print('acc: ', accuracy_score(hit_1['original_answer'].tolist(), hit_1['correct_ans'].tolist()))\n",
    "\n",
    "print(classification_report(hit_1['original_answer'].tolist(), hit_1['correct_ans'].tolist(), zero_division=0))\n",
    "\n"
   ]
  },
  {
   "cell_type": "code",
   "execution_count": 3,
   "id": "6ea3a9b9",
   "metadata": {},
   "outputs": [
    {
     "name": "stdout",
     "output_type": "stream",
     "text": [
      "acc:  0.5416666666666666\n",
      "              precision    recall  f1-score   support\n",
      "\n",
      "         con       0.33      0.29      0.31        21\n",
      "     neutral       0.00      0.00      0.00         3\n",
      "         pro       0.61      0.79      0.69        42\n",
      "         unk       0.00      0.00      0.00         6\n",
      "\n",
      "    accuracy                           0.54        72\n",
      "   macro avg       0.24      0.27      0.25        72\n",
      "weighted avg       0.45      0.54      0.49        72\n",
      "\n"
     ]
    }
   ],
   "source": [
    "\n",
    "hit_2 = pd.read_csv(\"../data/crowdsourced/cs2/hit_2_raw.csv\").reset_index(drop=True)\n",
    "\n",
    "\n",
    "print('acc: ', accuracy_score(hit_2['original_answer'].tolist(), hit_2['correct_ans'].tolist()))\n",
    "print(classification_report(hit_2['original_answer'].tolist(), hit_2['correct_ans'].tolist(), zero_division=0))"
   ]
  },
  {
   "cell_type": "code",
   "execution_count": 4,
   "id": "80c38830",
   "metadata": {},
   "outputs": [
    {
     "name": "stdout",
     "output_type": "stream",
     "text": [
      "acc:  0.9166666666666666\n",
      "              precision    recall  f1-score   support\n",
      "\n",
      "         con       0.94      0.92      0.93        37\n",
      "     neutral       0.00      0.00      0.00         1\n",
      "         pro       0.89      0.94      0.91        34\n",
      "\n",
      "    accuracy                           0.92        72\n",
      "   macro avg       0.61      0.62      0.62        72\n",
      "weighted avg       0.91      0.92      0.91        72\n",
      "\n"
     ]
    }
   ],
   "source": [
    "hit_3 = pd.read_csv(\"../data/crowdsourced/cs2/hit_3_raw.csv\").reset_index(drop=True)\n",
    "\n",
    "print('acc: ', accuracy_score(hit_3['original_answer'].tolist(), hit_3['correct_ans'].tolist()))\n",
    "\n",
    "print(classification_report(hit_3['original_answer'].tolist(), hit_3['correct_ans'].tolist(), zero_division=0))\n"
   ]
  },
  {
   "cell_type": "code",
   "execution_count": 5,
   "id": "e3dc674d",
   "metadata": {},
   "outputs": [
    {
     "name": "stdout",
     "output_type": "stream",
     "text": [
      "acc:  0.8472222222222222\n",
      "              precision    recall  f1-score   support\n",
      "\n",
      "         con       0.72      0.72      0.72        18\n",
      "     neutral       0.00      0.00      0.00         2\n",
      "         pro       0.89      0.96      0.92        50\n",
      "         unk       0.00      0.00      0.00         2\n",
      "\n",
      "    accuracy                           0.85        72\n",
      "   macro avg       0.40      0.42      0.41        72\n",
      "weighted avg       0.80      0.85      0.82        72\n",
      "\n"
     ]
    }
   ],
   "source": [
    "hit_4 = pd.read_csv(\"../data/crowdsourced/cs2/hit_4_raw.csv\", error_bad_lines=True)\n",
    "\n",
    "\n",
    "print('acc: ', accuracy_score(hit_4['original_answer'].tolist(), hit_4['correct_ans'].tolist()))\n",
    "\n",
    "print(classification_report(hit_4['original_answer'].tolist(), hit_4['correct_ans'].tolist(), zero_division=0))\n"
   ]
  },
  {
   "cell_type": "code",
   "execution_count": 6,
   "id": "2cdfa06c",
   "metadata": {},
   "outputs": [
    {
     "name": "stdout",
     "output_type": "stream",
     "text": [
      "acc:  0.9861111111111112\n",
      "              precision    recall  f1-score   support\n",
      "\n",
      "         con       1.00      1.00      1.00        18\n",
      "     neutral       0.00      0.00      0.00         1\n",
      "         pro       0.98      1.00      0.99        53\n",
      "\n",
      "    accuracy                           0.99        72\n",
      "   macro avg       0.66      0.67      0.66        72\n",
      "weighted avg       0.97      0.99      0.98        72\n",
      "\n"
     ]
    },
    {
     "data": {
      "text/html": [
       "<div>\n",
       "<style scoped>\n",
       "    .dataframe tbody tr th:only-of-type {\n",
       "        vertical-align: middle;\n",
       "    }\n",
       "\n",
       "    .dataframe tbody tr th {\n",
       "        vertical-align: top;\n",
       "    }\n",
       "\n",
       "    .dataframe thead th {\n",
       "        text-align: right;\n",
       "    }\n",
       "</style>\n",
       "<table border=\"1\" class=\"dataframe\">\n",
       "  <thead>\n",
       "    <tr style=\"text-align: right;\">\n",
       "      <th></th>\n",
       "      <th>id_worker</th>\n",
       "      <th>original_answer</th>\n",
       "      <th>correct_ans</th>\n",
       "    </tr>\n",
       "  </thead>\n",
       "  <tbody>\n",
       "    <tr>\n",
       "      <th>0</th>\n",
       "      <td>1</td>\n",
       "      <td>con</td>\n",
       "      <td>con</td>\n",
       "    </tr>\n",
       "    <tr>\n",
       "      <th>1</th>\n",
       "      <td>2</td>\n",
       "      <td>con</td>\n",
       "      <td>con</td>\n",
       "    </tr>\n",
       "    <tr>\n",
       "      <th>2</th>\n",
       "      <td>3</td>\n",
       "      <td>con</td>\n",
       "      <td>con</td>\n",
       "    </tr>\n",
       "    <tr>\n",
       "      <th>3</th>\n",
       "      <td>4</td>\n",
       "      <td>con</td>\n",
       "      <td>con</td>\n",
       "    </tr>\n",
       "    <tr>\n",
       "      <th>4</th>\n",
       "      <td>5</td>\n",
       "      <td>con</td>\n",
       "      <td>con</td>\n",
       "    </tr>\n",
       "    <tr>\n",
       "      <th>...</th>\n",
       "      <td>...</td>\n",
       "      <td>...</td>\n",
       "      <td>...</td>\n",
       "    </tr>\n",
       "    <tr>\n",
       "      <th>67</th>\n",
       "      <td>4</td>\n",
       "      <td>pro</td>\n",
       "      <td>pro</td>\n",
       "    </tr>\n",
       "    <tr>\n",
       "      <th>68</th>\n",
       "      <td>5</td>\n",
       "      <td>pro</td>\n",
       "      <td>pro</td>\n",
       "    </tr>\n",
       "    <tr>\n",
       "      <th>69</th>\n",
       "      <td>6</td>\n",
       "      <td>pro</td>\n",
       "      <td>pro</td>\n",
       "    </tr>\n",
       "    <tr>\n",
       "      <th>70</th>\n",
       "      <td>7</td>\n",
       "      <td>pro</td>\n",
       "      <td>pro</td>\n",
       "    </tr>\n",
       "    <tr>\n",
       "      <th>71</th>\n",
       "      <td>8</td>\n",
       "      <td>pro</td>\n",
       "      <td>pro</td>\n",
       "    </tr>\n",
       "  </tbody>\n",
       "</table>\n",
       "<p>72 rows × 3 columns</p>\n",
       "</div>"
      ],
      "text/plain": [
       "    id_worker original_answer correct_ans\n",
       "0           1             con         con\n",
       "1           2             con         con\n",
       "2           3             con         con\n",
       "3           4             con         con\n",
       "4           5             con         con\n",
       "..        ...             ...         ...\n",
       "67          4             pro         pro\n",
       "68          5             pro         pro\n",
       "69          6             pro         pro\n",
       "70          7             pro         pro\n",
       "71          8             pro         pro\n",
       "\n",
       "[72 rows x 3 columns]"
      ]
     },
     "execution_count": 6,
     "metadata": {},
     "output_type": "execute_result"
    }
   ],
   "source": [
    "hit_5 = pd.read_csv(\"../data/crowdsourced/cs2/hit_5_raw.csv\")\n",
    "\n",
    "\n",
    "print('acc: ', accuracy_score(hit_5['original_answer'].tolist(), hit_5['correct_ans'].tolist()))\n",
    "\n",
    "print(classification_report(hit_5['original_answer'].tolist(), hit_5['correct_ans'].tolist(), zero_division=0))\n",
    "\n",
    "\n",
    "hit_5\n"
   ]
  },
  {
   "cell_type": "code",
   "execution_count": 7,
   "id": "999978d4",
   "metadata": {},
   "outputs": [
    {
     "name": "stdout",
     "output_type": "stream",
     "text": [
      "acc:  0.2222222222222222\n",
      "              precision    recall  f1-score   support\n",
      "\n",
      "         con       0.17      0.07      0.10        41\n",
      "     neutral       0.00      0.00      0.00         3\n",
      "         pro       0.24      0.46      0.32        28\n",
      "\n",
      "    accuracy                           0.22        72\n",
      "   macro avg       0.14      0.18      0.14        72\n",
      "weighted avg       0.19      0.22      0.18        72\n",
      "\n",
      "pro    54\n",
      "con    18\n",
      "Name: correct_ans, dtype: int64\n"
     ]
    },
    {
     "data": {
      "text/html": [
       "<div>\n",
       "<style scoped>\n",
       "    .dataframe tbody tr th:only-of-type {\n",
       "        vertical-align: middle;\n",
       "    }\n",
       "\n",
       "    .dataframe tbody tr th {\n",
       "        vertical-align: top;\n",
       "    }\n",
       "\n",
       "    .dataframe thead th {\n",
       "        text-align: right;\n",
       "    }\n",
       "</style>\n",
       "<table border=\"1\" class=\"dataframe\">\n",
       "  <thead>\n",
       "    <tr style=\"text-align: right;\">\n",
       "      <th></th>\n",
       "      <th>id_worker</th>\n",
       "      <th>original_answer</th>\n",
       "      <th>correct_ans</th>\n",
       "    </tr>\n",
       "  </thead>\n",
       "  <tbody>\n",
       "    <tr>\n",
       "      <th>0</th>\n",
       "      <td>1</td>\n",
       "      <td>pro</td>\n",
       "      <td>con</td>\n",
       "    </tr>\n",
       "    <tr>\n",
       "      <th>1</th>\n",
       "      <td>2</td>\n",
       "      <td>pro</td>\n",
       "      <td>con</td>\n",
       "    </tr>\n",
       "    <tr>\n",
       "      <th>2</th>\n",
       "      <td>3</td>\n",
       "      <td>pro</td>\n",
       "      <td>con</td>\n",
       "    </tr>\n",
       "    <tr>\n",
       "      <th>3</th>\n",
       "      <td>4</td>\n",
       "      <td>pro</td>\n",
       "      <td>con</td>\n",
       "    </tr>\n",
       "    <tr>\n",
       "      <th>4</th>\n",
       "      <td>5</td>\n",
       "      <td>pro</td>\n",
       "      <td>con</td>\n",
       "    </tr>\n",
       "    <tr>\n",
       "      <th>...</th>\n",
       "      <td>...</td>\n",
       "      <td>...</td>\n",
       "      <td>...</td>\n",
       "    </tr>\n",
       "    <tr>\n",
       "      <th>67</th>\n",
       "      <td>4</td>\n",
       "      <td>con</td>\n",
       "      <td>pro</td>\n",
       "    </tr>\n",
       "    <tr>\n",
       "      <th>68</th>\n",
       "      <td>5</td>\n",
       "      <td>con</td>\n",
       "      <td>pro</td>\n",
       "    </tr>\n",
       "    <tr>\n",
       "      <th>69</th>\n",
       "      <td>6</td>\n",
       "      <td>con</td>\n",
       "      <td>pro</td>\n",
       "    </tr>\n",
       "    <tr>\n",
       "      <th>70</th>\n",
       "      <td>7</td>\n",
       "      <td>pro</td>\n",
       "      <td>pro</td>\n",
       "    </tr>\n",
       "    <tr>\n",
       "      <th>71</th>\n",
       "      <td>8</td>\n",
       "      <td>con</td>\n",
       "      <td>pro</td>\n",
       "    </tr>\n",
       "  </tbody>\n",
       "</table>\n",
       "<p>72 rows × 3 columns</p>\n",
       "</div>"
      ],
      "text/plain": [
       "    id_worker original_answer correct_ans\n",
       "0           1             pro         con\n",
       "1           2             pro         con\n",
       "2           3             pro         con\n",
       "3           4             pro         con\n",
       "4           5             pro         con\n",
       "..        ...             ...         ...\n",
       "67          4             con         pro\n",
       "68          5             con         pro\n",
       "69          6             con         pro\n",
       "70          7             pro         pro\n",
       "71          8             con         pro\n",
       "\n",
       "[72 rows x 3 columns]"
      ]
     },
     "execution_count": 7,
     "metadata": {},
     "output_type": "execute_result"
    }
   ],
   "source": [
    "hit_6 = pd.read_csv(\"../data/crowdsourced/cs2/hit_6_raw.csv\").reset_index(drop=True)\n",
    "\n",
    "\n",
    "print('acc: ', accuracy_score(hit_6['original_answer'].tolist(), hit_6['correct_ans'].tolist()))\n",
    "print(classification_report(hit_6['original_answer'].tolist(), hit_6['correct_ans'].tolist(), zero_division=0))\n",
    "\n",
    "\n",
    "print(hit_6['correct_ans'].value_counts())\n",
    "hit_6"
   ]
  },
  {
   "cell_type": "code",
   "execution_count": 8,
   "id": "9c70295d",
   "metadata": {},
   "outputs": [
    {
     "name": "stdout",
     "output_type": "stream",
     "text": [
      "acc:  0.8055555555555556\n",
      "              precision    recall  f1-score   support\n",
      "\n",
      "         con       0.00      0.00      0.00        13\n",
      "     neutral       0.00      0.00      0.00         1\n",
      "         pro       0.81      1.00      0.89        58\n",
      "\n",
      "    accuracy                           0.81        72\n",
      "   macro avg       0.27      0.33      0.30        72\n",
      "weighted avg       0.65      0.81      0.72        72\n",
      "\n"
     ]
    },
    {
     "data": {
      "text/plain": [
       "pro    72\n",
       "Name: correct_ans, dtype: int64"
      ]
     },
     "execution_count": 8,
     "metadata": {},
     "output_type": "execute_result"
    }
   ],
   "source": [
    "hit_7 = pd.read_csv(\"../data/crowdsourced/cs2/hit_7_raw.csv\").reset_index(drop=True)\n",
    "\n",
    "print('acc: ', accuracy_score(hit_7['original_answer'].tolist(), hit_7['correct_ans'].tolist()))\n",
    "print(classification_report(hit_7['original_answer'].tolist(), hit_7['correct_ans'].tolist(), zero_division=0))\n",
    "\n",
    "hit_7['correct_ans'].value_counts()"
   ]
  },
  {
   "cell_type": "code",
   "execution_count": 9,
   "id": "10937f97",
   "metadata": {},
   "outputs": [
    {
     "name": "stdout",
     "output_type": "stream",
     "text": [
      "acc:  0.6111111111111112\n",
      "              precision    recall  f1-score   support\n",
      "\n",
      "         con       0.83      0.50      0.62        30\n",
      "     neutral       0.00      0.00      0.00        10\n",
      "         pro       0.54      0.94      0.68        31\n",
      "         unk       0.00      0.00      0.00         1\n",
      "\n",
      "    accuracy                           0.61        72\n",
      "   macro avg       0.34      0.36      0.33        72\n",
      "weighted avg       0.58      0.61      0.55        72\n",
      "\n"
     ]
    }
   ],
   "source": [
    "hit_8 = pd.read_csv(\"../data/crowdsourced/cs2/hit_8_raw.csv\").reset_index(drop=True)\n",
    "\n",
    "\n",
    "print('acc: ', accuracy_score(hit_8['original_answer'].tolist(), hit_8['correct_ans'].tolist()))\n",
    "print(classification_report(hit_8['original_answer'].tolist(), hit_8['correct_ans'].tolist(), zero_division=0))\n",
    "\n",
    "# hit_8"
   ]
  },
  {
   "cell_type": "code",
   "execution_count": 10,
   "id": "a92451cc",
   "metadata": {},
   "outputs": [
    {
     "name": "stdout",
     "output_type": "stream",
     "text": [
      "acc:  0.5694444444444444\n",
      "              precision    recall  f1-score   support\n",
      "\n",
      "         con       0.56      0.19      0.29        26\n",
      "     neutral       0.00      0.00      0.00         5\n",
      "         pro       0.57      0.90      0.70        40\n",
      "         unk       0.00      0.00      0.00         1\n",
      "\n",
      "    accuracy                           0.57        72\n",
      "   macro avg       0.28      0.27      0.25        72\n",
      "weighted avg       0.52      0.57      0.49        72\n",
      "\n"
     ]
    }
   ],
   "source": [
    "hit_9 = pd.read_csv(\"../data/crowdsourced/cs2/hit_9_raw.csv\").reset_index(drop=True)\n",
    "\n",
    "\n",
    "\n",
    "print('acc: ', accuracy_score(hit_9['original_answer'].tolist(), hit_9['correct_ans'].tolist()))\n",
    "print(classification_report(hit_9['original_answer'].tolist(), hit_9['correct_ans'].tolist(), zero_division=0))\n"
   ]
  },
  {
   "cell_type": "code",
   "execution_count": 11,
   "id": "c67a260e",
   "metadata": {},
   "outputs": [
    {
     "name": "stdout",
     "output_type": "stream",
     "text": [
      "acc:  0.8888888888888888\n",
      "              precision    recall  f1-score   support\n",
      "\n",
      "         con       0.91      0.93      0.92        44\n",
      "     neutral       0.00      0.00      0.00         1\n",
      "         pro       0.85      0.85      0.85        27\n",
      "\n",
      "    accuracy                           0.89        72\n",
      "   macro avg       0.59      0.59      0.59        72\n",
      "weighted avg       0.88      0.89      0.88        72\n",
      "\n"
     ]
    }
   ],
   "source": [
    "hit_10 = pd.read_csv(\"../data/crowdsourced/cs2/hit_10_raw.csv\").reset_index(drop=True)\n",
    "\n",
    "\n",
    "print('acc: ', accuracy_score(hit_10['original_answer'].tolist(), hit_10['correct_ans'].tolist()))\n",
    "print(classification_report(hit_10['original_answer'].tolist(), hit_10['correct_ans'].tolist(), zero_division=0))\n"
   ]
  },
  {
   "cell_type": "code",
   "execution_count": null,
   "id": "ecec00bb",
   "metadata": {},
   "outputs": [],
   "source": []
  },
  {
   "cell_type": "code",
   "execution_count": null,
   "id": "a8e3fa72",
   "metadata": {},
   "outputs": [],
   "source": []
  }
 ],
 "metadata": {
  "kernelspec": {
   "display_name": "Python 3",
   "language": "python",
   "name": "python3"
  },
  "language_info": {
   "codemirror_mode": {
    "name": "ipython",
    "version": 3
   },
   "file_extension": ".py",
   "mimetype": "text/x-python",
   "name": "python",
   "nbconvert_exporter": "python",
   "pygments_lexer": "ipython3",
   "version": "3.6.13"
  }
 },
 "nbformat": 4,
 "nbformat_minor": 5
}
