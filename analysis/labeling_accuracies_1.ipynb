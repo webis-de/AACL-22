{
 "cells": [
  {
   "cell_type": "code",
   "execution_count": 12,
   "id": "766ca6b1",
   "metadata": {},
   "outputs": [],
   "source": [
    "import os\n",
    "import pandas as pd\n",
    "import numpy as np\n",
    "import glob\n",
    "from sklearn.metrics import accuracy_score, classification_report\n",
    "\n",
    "\n",
    "\n",
    "def get_labels_fix(e):\n",
    "    if e == '1':\n",
    "        return 'pro'\n",
    "    elif e == '2':\n",
    "        return 'con'\n",
    "    elif e == '3':\n",
    "        return 'unk'\n",
    "    elif e == '4':\n",
    "        return 'neutral'\n",
    "    \n",
    "    \n",
    "def wrangle_argument(a_df, worker_id_col):\n",
    "    hit = pd.concat([worker_id_col, a_df], axis=1)\n",
    "    a_df = hit.set_index('id_worker')\n",
    "    a_df = a_df.dot(a_df.columns).to_frame('original_answer').reset_index()\n",
    "    a_df['original_answer'] = a_df['original_answer'].apply(lambda x : ' '.join(x.split('.')[-1:]))\n",
    "    a_df['correct_ans'] = a_df['original_answer'].apply(lambda x : ' '.join(x.split('-')[1]))\n",
    "    a_df['original_answer'] = a_df['original_answer'].apply(lambda x : ' '.join(x.split('-')[0]))\n",
    "    a_df['id_worker'] = a_df['id_worker'].apply(lambda x : x[0])\n",
    "    a_df['original_answer'] = a_df['original_answer'].apply(get_labels_fix)\n",
    "    a_df['correct_ans'] = a_df['correct_ans'].apply(get_labels_fix)\n",
    "    return a_df    \n",
    "    \n"
   ]
  },
  {
   "cell_type": "code",
   "execution_count": 13,
   "id": "00928992",
   "metadata": {},
   "outputs": [
    {
     "name": "stdout",
     "output_type": "stream",
     "text": [
      "acc:  0.8055555555555556\n",
      "              precision    recall  f1-score   support\n",
      "\n",
      "         con       0.83      0.86      0.85        35\n",
      "     neutral       0.00      0.00      0.00         2\n",
      "         pro       0.78      0.88      0.82        32\n",
      "         unk       0.00      0.00      0.00         3\n",
      "\n",
      "    accuracy                           0.81        72\n",
      "   macro avg       0.40      0.43      0.42        72\n",
      "weighted avg       0.75      0.81      0.78        72\n",
      "\n"
     ]
    }
   ],
   "source": [
    "hit_1 = pd.read_csv(\"../data/crowdsourced/cs1/hit_1_raw.csv\").reset_index(drop=True)\n",
    "\n",
    "\n",
    "print('acc: ', accuracy_score(hit_1['original_answer'].tolist(), hit_1['correct_ans'].tolist()))\n",
    "print(classification_report(hit_1['original_answer'].tolist(), hit_1['correct_ans'].tolist(), zero_division=0))"
   ]
  },
  {
   "cell_type": "code",
   "execution_count": 14,
   "id": "6ea3a9b9",
   "metadata": {},
   "outputs": [
    {
     "name": "stdout",
     "output_type": "stream",
     "text": [
      "acc:  0.6805555555555556\n",
      "              precision    recall  f1-score   support\n",
      "\n",
      "         con       0.33      0.43      0.38        14\n",
      "     neutral       0.00      0.00      0.00         4\n",
      "         pro       0.80      0.88      0.83        49\n",
      "         unk       0.00      0.00      0.00         5\n",
      "\n",
      "    accuracy                           0.68        72\n",
      "   macro avg       0.28      0.33      0.30        72\n",
      "weighted avg       0.61      0.68      0.64        72\n",
      "\n"
     ]
    }
   ],
   "source": [
    "hit_2 = pd.read_csv(\"../data/crowdsourced/cs1/hit_2_raw.csv\")\n",
    "worker_id_col_2 = hit_2.drop(hit_2.index[[4]]).reset_index()[['id_worker']]\n",
    "\n",
    "\n",
    "\n",
    "print('acc: ', accuracy_score(hit_2['original_answer'].tolist(), hit_2['correct_ans'].tolist()))\n",
    "print(classification_report(hit_2['original_answer'].tolist(), hit_2['correct_ans'].tolist(), zero_division=0))\n"
   ]
  },
  {
   "cell_type": "code",
   "execution_count": 15,
   "id": "80c38830",
   "metadata": {},
   "outputs": [
    {
     "name": "stdout",
     "output_type": "stream",
     "text": [
      "acc:  0.7777777777777778\n",
      "              precision    recall  f1-score   support\n",
      "\n",
      "         con       0.92      0.94      0.93        35\n",
      "     neutral       0.00      0.00      0.00        13\n",
      "         pro       0.64      1.00      0.78        23\n",
      "         unk       0.00      0.00      0.00         1\n",
      "\n",
      "    accuracy                           0.78        72\n",
      "   macro avg       0.39      0.49      0.43        72\n",
      "weighted avg       0.65      0.78      0.70        72\n",
      "\n"
     ]
    }
   ],
   "source": [
    "hit_3 = pd.read_csv(\"../data/crowdsourced/cs1/hit_3_raw.csv\").reset_index(drop=True)\n",
    "\n",
    "\n",
    "print('acc: ', accuracy_score(hit_3['original_answer'].tolist(), hit_3['correct_ans'].tolist()))\n",
    "\n",
    "print(classification_report(hit_3['original_answer'].tolist(), hit_3['correct_ans'].tolist(), zero_division=0))\n"
   ]
  },
  {
   "cell_type": "code",
   "execution_count": 16,
   "id": "e3dc674d",
   "metadata": {},
   "outputs": [
    {
     "name": "stdout",
     "output_type": "stream",
     "text": [
      "acc:  0.6944444444444444\n",
      "              precision    recall  f1-score   support\n",
      "\n",
      "         con       0.61      0.55      0.58        20\n",
      "     neutral       0.00      0.00      0.00         9\n",
      "         pro       0.72      0.97      0.83        40\n",
      "         unk       0.00      0.00      0.00         3\n",
      "\n",
      "    accuracy                           0.69        72\n",
      "   macro avg       0.33      0.38      0.35        72\n",
      "weighted avg       0.57      0.69      0.62        72\n",
      "\n"
     ]
    }
   ],
   "source": [
    "hit_4 = pd.read_csv(\"../data/crowdsourced/cs1/hit_4_raw.csv\", error_bad_lines=True)\n",
    "\n",
    "\n",
    "print('acc: ', accuracy_score(hit_4['original_answer'].tolist(), hit_4['correct_ans'].tolist()))\n",
    "\n",
    "print(classification_report(hit_4['original_answer'].tolist(), hit_4['correct_ans'].tolist(), zero_division=0))\n"
   ]
  },
  {
   "cell_type": "code",
   "execution_count": 17,
   "id": "2cdfa06c",
   "metadata": {},
   "outputs": [
    {
     "name": "stdout",
     "output_type": "stream",
     "text": [
      "acc:  0.8333333333333334\n",
      "              precision    recall  f1-score   support\n",
      "\n",
      "         con       0.83      0.83      0.83        18\n",
      "     neutral       0.00      0.00      0.00         7\n",
      "         pro       0.83      1.00      0.91        45\n",
      "         unk       0.00      0.00      0.00         2\n",
      "\n",
      "    accuracy                           0.83        72\n",
      "   macro avg       0.42      0.46      0.44        72\n",
      "weighted avg       0.73      0.83      0.78        72\n",
      "\n"
     ]
    }
   ],
   "source": [
    "hit_5 = pd.read_csv(\"../data/crowdsourced/cs1/hit_5_raw.csv\")\n",
    "\n",
    "\n",
    "print('acc: ', accuracy_score(hit_5['original_answer'].tolist(), hit_5['correct_ans'].tolist()))\n",
    "\n",
    "print(classification_report(hit_5['original_answer'].tolist(), hit_5['correct_ans'].tolist(), zero_division=0))\n",
    "\n",
    "\n"
   ]
  },
  {
   "cell_type": "code",
   "execution_count": 18,
   "id": "999978d4",
   "metadata": {},
   "outputs": [
    {
     "name": "stdout",
     "output_type": "stream",
     "text": [
      "acc:  0.2222222222222222\n",
      "              precision    recall  f1-score   support\n",
      "\n",
      "         con       0.28      0.13      0.18        39\n",
      "     neutral       0.00      0.00      0.00         9\n",
      "         pro       0.20      0.55      0.30        20\n",
      "         unk       0.00      0.00      0.00         4\n",
      "\n",
      "    accuracy                           0.22        72\n",
      "   macro avg       0.12      0.17      0.12        72\n",
      "weighted avg       0.21      0.22      0.18        72\n",
      "\n"
     ]
    }
   ],
   "source": [
    "hit_6 = pd.read_csv(\"../data/crowdsourced/cs1/hit_6_raw.csv\")\n",
    "\n",
    "\n",
    "print('acc: ', accuracy_score(hit_6['original_answer'].tolist(), hit_6['correct_ans'].tolist()))\n",
    "print(classification_report(hit_6['original_answer'].tolist(), hit_6['correct_ans'].tolist(), zero_division=0))\n",
    "\n"
   ]
  },
  {
   "cell_type": "code",
   "execution_count": 19,
   "id": "9c70295d",
   "metadata": {},
   "outputs": [
    {
     "name": "stdout",
     "output_type": "stream",
     "text": [
      "acc:  0.5555555555555556\n",
      "              precision    recall  f1-score   support\n",
      "\n",
      "         con       0.00      0.00      0.00        20\n",
      "     neutral       0.00      0.00      0.00         9\n",
      "         pro       0.56      1.00      0.71        40\n",
      "         unk       0.00      0.00      0.00         3\n",
      "\n",
      "    accuracy                           0.56        72\n",
      "   macro avg       0.14      0.25      0.18        72\n",
      "weighted avg       0.31      0.56      0.40        72\n",
      "\n"
     ]
    }
   ],
   "source": [
    "hit_7 = pd.read_csv(\"../data/crowdsourced/cs1/hit_7_raw.csv\")\n",
    "\n",
    "\n",
    "print('acc: ', accuracy_score(hit_7['original_answer'].tolist(), hit_7['correct_ans'].tolist()))\n",
    "print(classification_report(hit_7['original_answer'].tolist(), hit_7['correct_ans'].tolist(), zero_division=0))\n",
    "\n"
   ]
  },
  {
   "cell_type": "code",
   "execution_count": 20,
   "id": "10937f97",
   "metadata": {},
   "outputs": [
    {
     "name": "stdout",
     "output_type": "stream",
     "text": [
      "acc:  0.5555555555555556\n",
      "              precision    recall  f1-score   support\n",
      "\n",
      "         con       0.00      0.00      0.00        20\n",
      "     neutral       0.00      0.00      0.00         9\n",
      "         pro       0.56      1.00      0.71        40\n",
      "         unk       0.00      0.00      0.00         3\n",
      "\n",
      "    accuracy                           0.56        72\n",
      "   macro avg       0.14      0.25      0.18        72\n",
      "weighted avg       0.31      0.56      0.40        72\n",
      "\n"
     ]
    }
   ],
   "source": [
    "hit_8 = pd.read_csv(\"../data/crowdsourced/cs1/hit_7_raw.csv\")\n",
    "\n",
    "\n",
    "print('acc: ', accuracy_score(hit_8['original_answer'].tolist(), hit_8['correct_ans'].tolist()))\n",
    "print(classification_report(hit_8['original_answer'].tolist(), hit_8['correct_ans'].tolist(), zero_division=0))\n"
   ]
  },
  {
   "cell_type": "code",
   "execution_count": 21,
   "id": "a92451cc",
   "metadata": {},
   "outputs": [
    {
     "name": "stdout",
     "output_type": "stream",
     "text": [
      "acc:  0.5416666666666666\n",
      "              precision    recall  f1-score   support\n",
      "\n",
      "         con       0.25      0.13      0.17        15\n",
      "     neutral       0.00      0.00      0.00         7\n",
      "         pro       0.58      0.90      0.70        41\n",
      "         unk       0.00      0.00      0.00         9\n",
      "\n",
      "    accuracy                           0.54        72\n",
      "   macro avg       0.21      0.26      0.22        72\n",
      "weighted avg       0.38      0.54      0.44        72\n",
      "\n"
     ]
    }
   ],
   "source": [
    "\n",
    "hit_9 = pd.read_csv(\"../data/crowdsourced/cs1/hit_9_raw.csv\")\n",
    "\n",
    "print('acc: ', accuracy_score(hit_9['original_answer'].tolist(), hit_9['correct_ans'].tolist()))\n",
    "\n",
    "print(classification_report(hit_9['original_answer'].tolist(), hit_9['correct_ans'].tolist(), zero_division=0))\n"
   ]
  },
  {
   "cell_type": "code",
   "execution_count": 22,
   "id": "c67a260e",
   "metadata": {},
   "outputs": [
    {
     "name": "stdout",
     "output_type": "stream",
     "text": [
      "acc:  0.5833333333333334\n",
      "              precision    recall  f1-score   support\n",
      "\n",
      "         con       0.62      0.78      0.69        36\n",
      "     neutral       0.00      0.00      0.00         8\n",
      "         pro       0.52      0.54      0.53        26\n",
      "         unk       0.00      0.00      0.00         2\n",
      "\n",
      "    accuracy                           0.58        72\n",
      "   macro avg       0.29      0.33      0.30        72\n",
      "weighted avg       0.50      0.58      0.54        72\n",
      "\n"
     ]
    }
   ],
   "source": [
    "hit_10 = pd.read_csv(\"../data/crowdsourced/cs1/hit_10_raw.csv\").reset_index(drop=True)\n",
    "\n",
    "\n",
    "print('acc: ', accuracy_score(hit_10['original_answer'].tolist(), hit_10['correct_ans'].tolist()))\n",
    "print(classification_report(hit_10['original_answer'].tolist(), hit_10['correct_ans'].tolist(), zero_division=0))\n"
   ]
  }
 ],
 "metadata": {
  "kernelspec": {
   "display_name": "Python 3",
   "language": "python",
   "name": "python3"
  },
  "language_info": {
   "codemirror_mode": {
    "name": "ipython",
    "version": 3
   },
   "file_extension": ".py",
   "mimetype": "text/x-python",
   "name": "python",
   "nbconvert_exporter": "python",
   "pygments_lexer": "ipython3",
   "version": "3.6.13"
  }
 },
 "nbformat": 4,
 "nbformat_minor": 5
}
