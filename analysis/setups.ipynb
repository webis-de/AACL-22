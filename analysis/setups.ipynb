{
 "cells": [
  {
   "cell_type": "code",
   "execution_count": 1,
   "id": "c2d86784",
   "metadata": {
    "scrolled": true
   },
   "outputs": [
    {
     "name": "stderr",
     "output_type": "stream",
     "text": [
      "/Users/user/miniconda3/envs/exaggerated_language/lib/python3.6/site-packages/requests/__init__.py:104: RequestsDependencyWarning: urllib3 (1.26.9) or chardet (5.0.0)/charset_normalizer (2.0.12) doesn't match a supported version!\n",
      "  RequestsDependencyWarning)\n",
      "/Users/user/miniconda3/envs/exaggerated_language/lib/python3.6/site-packages/outdated/utils.py:18: OutdatedPackageWarning: The package pingouin is out of date. Your version is 0.3.12, the latest is 0.5.2.\n",
      "Set the environment variable OUTDATED_IGNORE=1 to disable these warnings.\n",
      "  **kwargs\n",
      "/Users/user/miniconda3/envs/exaggerated_language/lib/python3.6/site-packages/outdated/utils.py:18: OutdatedPackageWarning: The package outdated is out of date. Your version is 0.2.1, the latest is 0.2.2.\n",
      "Set the environment variable OUTDATED_IGNORE=1 to disable these warnings.\n",
      "  **kwargs\n"
     ]
    },
    {
     "data": {
      "text/html": [
       "<div>\n",
       "<style scoped>\n",
       "    .dataframe tbody tr th:only-of-type {\n",
       "        vertical-align: middle;\n",
       "    }\n",
       "\n",
       "    .dataframe tbody tr th {\n",
       "        vertical-align: top;\n",
       "    }\n",
       "\n",
       "    .dataframe thead th {\n",
       "        text-align: right;\n",
       "    }\n",
       "</style>\n",
       "<table border=\"1\" class=\"dataframe\">\n",
       "  <thead>\n",
       "    <tr style=\"text-align: right;\">\n",
       "      <th></th>\n",
       "      <th>distro</th>\n",
       "      <th>acc</th>\n",
       "      <th>diff_bias</th>\n",
       "      <th>section_type</th>\n",
       "      <th>setup</th>\n",
       "      <th>id</th>\n",
       "    </tr>\n",
       "  </thead>\n",
       "  <tbody>\n",
       "    <tr>\n",
       "      <th>0</th>\n",
       "      <td>0:0</td>\n",
       "      <td>0.27</td>\n",
       "      <td>without</td>\n",
       "      <td>1</td>\n",
       "      <td>1</td>\n",
       "      <td>0</td>\n",
       "    </tr>\n",
       "    <tr>\n",
       "      <th>1</th>\n",
       "      <td>0:0</td>\n",
       "      <td>0.33</td>\n",
       "      <td>without</td>\n",
       "      <td>2</td>\n",
       "      <td>1</td>\n",
       "      <td>1</td>\n",
       "    </tr>\n",
       "    <tr>\n",
       "      <th>2</th>\n",
       "      <td>0:0</td>\n",
       "      <td>0.58</td>\n",
       "      <td>without</td>\n",
       "      <td>3</td>\n",
       "      <td>1</td>\n",
       "      <td>2</td>\n",
       "    </tr>\n",
       "  </tbody>\n",
       "</table>\n",
       "</div>"
      ],
      "text/plain": [
       "  distro   acc diff_bias  section_type  setup  id\n",
       "0    0:0  0.27   without             1      1   0\n",
       "1    0:0  0.33   without             2      1   1\n",
       "2    0:0  0.58   without             3      1   2"
      ]
     },
     "execution_count": 1,
     "metadata": {},
     "output_type": "execute_result"
    }
   ],
   "source": [
    "import io\n",
    "import pandas as pd\n",
    "import pingouin as pg\n",
    "from pingouin import welch_anova, read_dataset\n",
    "import numpy as np\n",
    "import scipy.stats as stats\n",
    "import numpy as np\n",
    "import seaborn as sns\n",
    "import matplotlib.pyplot as plt\n",
    "\n",
    "import warnings\n",
    "warnings.filterwarnings(\"ignore\", category=FutureWarning)\n",
    "\n",
    "\n",
    "\n",
    "df = pd.read_csv('../data/crowdsourced/accs_general_total.csv', sep=\"\\t\")\n",
    "\n",
    "df['id'] = df.index\n",
    "df.head(3)"
   ]
  },
  {
   "cell_type": "code",
   "execution_count": 2,
   "id": "157895b7",
   "metadata": {},
   "outputs": [
    {
     "name": "stdout",
     "output_type": "stream",
     "text": [
      "(0.02316232638888889, 0.013958159722222219)\n"
     ]
    }
   ],
   "source": [
    "print((np.var(df.query('setup==1')['acc'].tolist()), np.var(df.query('setup==2')['acc'].tolist())))"
   ]
  },
  {
   "cell_type": "code",
   "execution_count": 3,
   "id": "a03e7f09",
   "metadata": {},
   "outputs": [],
   "source": [
    "model_covered = df.query('setup==1')['acc'].tolist()\n",
    "model_revealed = df.query('setup==2')['acc'].tolist()"
   ]
  },
  {
   "cell_type": "code",
   "execution_count": 4,
   "id": "6af2af70",
   "metadata": {},
   "outputs": [],
   "source": [
    "from scipy import stats\n",
    "t = stats.ttest_ind(model_covered, model_revealed, equal_var = False)"
   ]
  },
  {
   "cell_type": "code",
   "execution_count": 5,
   "id": "e3cda4b7",
   "metadata": {},
   "outputs": [
    {
     "data": {
      "text/plain": [
       "True"
      ]
     },
     "execution_count": 5,
     "metadata": {},
     "output_type": "execute_result"
    }
   ],
   "source": [
    "t[1]<0.5"
   ]
  },
  {
   "cell_type": "code",
   "execution_count": 6,
   "id": "d656e92b",
   "metadata": {
    "scrolled": false
   },
   "outputs": [
    {
     "data": {
      "text/plain": [
       "([<matplotlib.axis.XTick at 0x7fc1901400b8>,\n",
       "  <matplotlib.axis.XTick at 0x7fc190130c50>],\n",
       " [Text(0, 0, ''), Text(1, 0, '')])"
      ]
     },
     "execution_count": 6,
     "metadata": {},
     "output_type": "execute_result"
    },
    {
     "data": {
      "image/png": "[encoded data removed]",
      "text/plain": [
       "<Figure size 720x504 with 1 Axes>"
      ]
     },
     "metadata": {},
     "output_type": "display_data"
    }
   ],
   "source": [
    "sns.set_theme()\n",
    "sns.set(font_scale=2.5)  \n",
    "np.random.seed(111)\n",
    "plt.figure(figsize=(10,7))\n",
    "all_sections_1 = [0.46, 0.43, 0.38, 0.52, 0.60, 0.56]\n",
    "all_sections_2 = [0.51, 0.60, 0.59, 0.67, 0.73, 0.76]\n",
    "sns.boxplot(data=[all_sections_1, all_sections_2],  palette=\"Blues\")\n",
    "plt.xticks([0, 1], ['', ''])"
   ]
  },
  {
   "cell_type": "code",
   "execution_count": null,
   "id": "019b9243",
   "metadata": {},
   "outputs": [],
   "source": []
  },
  {
   "cell_type": "code",
   "execution_count": null,
   "id": "2d76e955",
   "metadata": {},
   "outputs": [],
   "source": []
  },
  {
   "cell_type": "code",
   "execution_count": null,
   "id": "d9724902",
   "metadata": {},
   "outputs": [],
   "source": []
  }
 ],
 "metadata": {
  "kernelspec": {
   "display_name": "Python 3",
   "language": "python",
   "name": "python3"
  },
  "language_info": {
   "codemirror_mode": {
    "name": "ipython",
    "version": 3
   },
   "file_extension": ".py",
   "mimetype": "text/x-python",
   "name": "python",
   "nbconvert_exporter": "python",
   "pygments_lexer": "ipython3",
   "version": "3.6.13"
  }
 },
 "nbformat": 4,
 "nbformat_minor": 5
}
