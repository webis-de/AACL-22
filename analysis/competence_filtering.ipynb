{
 "cells": [
  {
   "cell_type": "code",
   "execution_count": 1,
   "id": "d52b808d",
   "metadata": {},
   "outputs": [
    {
     "data": {
      "text/html": [
       "<div>\n",
       "<style scoped>\n",
       "    .dataframe tbody tr th:only-of-type {\n",
       "        vertical-align: middle;\n",
       "    }\n",
       "\n",
       "    .dataframe tbody tr th {\n",
       "        vertical-align: top;\n",
       "    }\n",
       "\n",
       "    .dataframe thead th {\n",
       "        text-align: right;\n",
       "    }\n",
       "</style>\n",
       "<table border=\"1\" class=\"dataframe\">\n",
       "  <thead>\n",
       "    <tr style=\"text-align: right;\">\n",
       "      <th></th>\n",
       "      <th>distro</th>\n",
       "      <th>section</th>\n",
       "      <th>accs</th>\n",
       "      <th>comp</th>\n",
       "      <th>setup</th>\n",
       "    </tr>\n",
       "  </thead>\n",
       "  <tbody>\n",
       "    <tr>\n",
       "      <th>0</th>\n",
       "      <td>0:0</td>\n",
       "      <td>1</td>\n",
       "      <td>0.11</td>\n",
       "      <td>low</td>\n",
       "      <td>1</td>\n",
       "    </tr>\n",
       "    <tr>\n",
       "      <th>1</th>\n",
       "      <td>0:0</td>\n",
       "      <td>1</td>\n",
       "      <td>0.12</td>\n",
       "      <td>low</td>\n",
       "      <td>1</td>\n",
       "    </tr>\n",
       "    <tr>\n",
       "      <th>2</th>\n",
       "      <td>0:0</td>\n",
       "      <td>2</td>\n",
       "      <td>0.00</td>\n",
       "      <td>low</td>\n",
       "      <td>1</td>\n",
       "    </tr>\n",
       "    <tr>\n",
       "      <th>3</th>\n",
       "      <td>0:0</td>\n",
       "      <td>3</td>\n",
       "      <td>0.18</td>\n",
       "      <td>low</td>\n",
       "      <td>1</td>\n",
       "    </tr>\n",
       "    <tr>\n",
       "      <th>4</th>\n",
       "      <td>0:0</td>\n",
       "      <td>4</td>\n",
       "      <td>0.24</td>\n",
       "      <td>low</td>\n",
       "      <td>1</td>\n",
       "    </tr>\n",
       "    <tr>\n",
       "      <th>5</th>\n",
       "      <td>0:0</td>\n",
       "      <td>4</td>\n",
       "      <td>0.33</td>\n",
       "      <td>low</td>\n",
       "      <td>1</td>\n",
       "    </tr>\n",
       "    <tr>\n",
       "      <th>6</th>\n",
       "      <td>4:4</td>\n",
       "      <td>1</td>\n",
       "      <td>0.00</td>\n",
       "      <td>low</td>\n",
       "      <td>1</td>\n",
       "    </tr>\n",
       "    <tr>\n",
       "      <th>7</th>\n",
       "      <td>4:4</td>\n",
       "      <td>1</td>\n",
       "      <td>0.00</td>\n",
       "      <td>low</td>\n",
       "      <td>1</td>\n",
       "    </tr>\n",
       "    <tr>\n",
       "      <th>8</th>\n",
       "      <td>4:4</td>\n",
       "      <td>1</td>\n",
       "      <td>0.00</td>\n",
       "      <td>low</td>\n",
       "      <td>1</td>\n",
       "    </tr>\n",
       "    <tr>\n",
       "      <th>9</th>\n",
       "      <td>4:4</td>\n",
       "      <td>2</td>\n",
       "      <td>0.26</td>\n",
       "      <td>low</td>\n",
       "      <td>1</td>\n",
       "    </tr>\n",
       "  </tbody>\n",
       "</table>\n",
       "</div>"
      ],
      "text/plain": [
       "  distro  section  accs comp  setup\n",
       "0    0:0        1  0.11  low      1\n",
       "1    0:0        1  0.12  low      1\n",
       "2    0:0        2  0.00  low      1\n",
       "3    0:0        3  0.18  low      1\n",
       "4    0:0        4  0.24  low      1\n",
       "5    0:0        4  0.33  low      1\n",
       "6    4:4        1  0.00  low      1\n",
       "7    4:4        1  0.00  low      1\n",
       "8    4:4        1  0.00  low      1\n",
       "9    4:4        2  0.26  low      1"
      ]
     },
     "execution_count": 1,
     "metadata": {},
     "output_type": "execute_result"
    }
   ],
   "source": [
    "import numpy as np\n",
    "import pandas as pd\n",
    "from itertools import product\n",
    "\n",
    "\n",
    "df = pd.read_csv(\"../data/crowdsourced/summ_accs_comp.csv\")\n",
    "df.head(10)"
   ]
  },
  {
   "cell_type": "code",
   "execution_count": 2,
   "id": "17e1b023",
   "metadata": {
    "scrolled": false
   },
   "outputs": [
    {
     "name": "stdout",
     "output_type": "stream",
     "text": [
      "0:4 4 0.6\n",
      "4:4 4 0.24\n",
      "2:0 3 0.55\n",
      "0:0 3 0.18\n",
      "2:2 3 0.33\n",
      "0:4 3 0.48\n",
      "4:2 4 0.28\n",
      "4:2 3 0.43\n",
      "2:0 2 0.44\n",
      "0:0 2 0.0\n",
      "2:2 2 0.14\n",
      "0:4 2 0.36\n",
      "4:4 3 0.33\n",
      "4:2 2 0.46\n",
      "0:0 1 0.12\n",
      "2:2 1 0.0\n",
      "4:4 2 0.26\n",
      "2:0 1 0.2\n",
      "0:4 1 0.55\n",
      "2:0 4 0.35\n",
      "4:2 1 0.48\n",
      "0:0 4 0.29\n",
      "2:2 4 0.11\n",
      "4:4 1 0.0\n"
     ]
    }
   ],
   "source": [
    "df1 = df.query(\"setup==1 and comp=='low'\").copy()\n",
    "distros = df1['distro'].tolist()\n",
    "sections = list(set(df['section'].tolist()))\n",
    "queries = list(set(list(product(distros, sections))))\n",
    "\n",
    "for e in queries:\n",
    "    vals = df1.query(f\"section=='{e[1]}' and distro=='{e[0]}'\")['accs'].mean()                   \n",
    "    print(e[0], e[1], np.round(np.mean(vals), 2))"
   ]
  },
  {
   "cell_type": "code",
   "execution_count": 3,
   "id": "0800d943",
   "metadata": {},
   "outputs": [
    {
     "name": "stdout",
     "output_type": "stream",
     "text": [
      "0:4 4 0.7633333333333333\n",
      "4:4 4 0.48\n",
      "2:0 3 0.63\n",
      "0:0 3 0.66\n",
      "2:2 3 0.22\n",
      "0:4 3 0.74\n",
      "4:2 4 0.66\n",
      "4:2 3 0.605\n",
      "2:0 2 0.66\n",
      "0:0 2 0.55\n",
      "2:2 2 0.665\n",
      "0:4 2 0.62\n",
      "4:4 3 0.665\n",
      "4:2 2 0.775\n",
      "0:0 1 0.375\n",
      "2:2 1 0.0\n",
      "4:4 2 0.44\n",
      "2:0 1 0.72\n",
      "0:4 1 0.66\n",
      "2:0 4 0.68\n",
      "4:2 1 0.55\n",
      "0:0 4 0.535\n",
      "2:2 4 0.555\n",
      "4:4 1 0.6833333333333332\n"
     ]
    }
   ],
   "source": [
    "df3 = df.query(\"setup==1 and comp=='high'\").copy()\n",
    "distros = df3['distro'].tolist()\n",
    "sections = list(set(df3['section'].tolist()))\n",
    "queries = list(set(list(product(distros, sections))))\n",
    "\n",
    "for e in queries:\n",
    "    vals = df3.query(f\"section=='{e[1]}' and distro=='{e[0]}'\")['accs'].mean()                   \n",
    "    print(e[0], e[1], np.mean(vals))"
   ]
  },
  {
   "cell_type": "code",
   "execution_count": 4,
   "id": "8fe8d45c",
   "metadata": {
    "scrolled": false
   },
   "outputs": [
    {
     "name": "stdout",
     "output_type": "stream",
     "text": [
      "0:4 4 0.2\n",
      "4:4 4 0.44\n",
      "2:0 3 0.5\n",
      "0:0 3 0.33\n",
      "2:2 3 0.22\n",
      "0:4 3 0.56\n",
      "4:2 4 0.33\n",
      "4:2 3 0.5499999999999999\n",
      "2:0 2 0.605\n",
      "0:0 2 0.44\n",
      "2:2 2 0.25\n",
      "0:4 2 0.46499999999999997\n",
      "4:4 3 0.48\n",
      "4:2 2 0.57\n",
      "0:0 1 0.55\n",
      "2:2 1 0.43\n",
      "4:4 2 0.33\n",
      "2:0 1 0.66\n",
      "0:4 1 0.615\n",
      "2:0 4 0.545\n",
      "4:2 1 0.525\n",
      "0:0 4 0.33\n",
      "2:2 4 0.125\n",
      "4:4 1 0.5066666666666667\n"
     ]
    }
   ],
   "source": [
    "df2 = df.query(\"setup==2 and comp=='low'\").copy()\n",
    "distros = df2['distro'].tolist()\n",
    "sections = list(set(df['section'].tolist()))\n",
    "queries = list(set(list(product(distros, sections))))\n",
    "\n",
    "for e in queries:\n",
    "    vals = df2.query(f\"section=='{e[1]}' and distro=='{e[0]}'\")['accs'].mean()                   \n",
    "    print(e[0], e[1], np.mean(vals))"
   ]
  },
  {
   "cell_type": "code",
   "execution_count": 5,
   "id": "42778b5c",
   "metadata": {
    "scrolled": false
   },
   "outputs": [
    {
     "name": "stdout",
     "output_type": "stream",
     "text": [
      "0:4 4 0.645\n",
      "4:4 4 0.585\n",
      "2:0 3 0.585\n",
      "0:0 3 0.55\n",
      "2:2 3 0.5\n",
      "0:4 3 0.68\n",
      "4:2 4 0.66\n",
      "4:2 3 0.7000000000000001\n",
      "2:0 2 0.75\n",
      "0:0 2 0.63\n",
      "2:2 2 0.655\n",
      "0:4 2 0.6799999999999999\n",
      "4:4 3 0.66\n",
      "4:2 2 0.88\n",
      "0:0 1 0.615\n",
      "2:2 1 0.7\n",
      "4:4 2 0.55\n",
      "2:0 1 0.8\n",
      "0:4 1 0.75\n",
      "2:0 4 0.72\n",
      "4:2 1 1.0\n",
      "0:0 4 0.665\n",
      "2:2 4 0.55\n",
      "4:4 1 0.6233333333333334\n"
     ]
    }
   ],
   "source": [
    "\n",
    "df4 = df.query(\"setup==2 and comp=='high'\").reset_index(drop=True)\n",
    "\n",
    "distros = df4['distro'].tolist()\n",
    "sections = list(set(df4['section'].tolist()))\n",
    "queries = list(set(list(product(distros, sections))))\n",
    "\n",
    "for e in queries:\n",
    "    vals = df4.query(f\"section=='{e[1]}' and distro=='{e[0]}'\")['accs'].mean()                   \n",
    "    print(e[0], e[1], np.mean(vals))"
   ]
  },
  {
   "cell_type": "code",
   "execution_count": null,
   "id": "20714dbc",
   "metadata": {},
   "outputs": [],
   "source": []
  },
  {
   "cell_type": "code",
   "execution_count": null,
   "id": "700c8e85",
   "metadata": {},
   "outputs": [],
   "source": []
  }
 ],
 "metadata": {
  "kernelspec": {
   "display_name": "Python 3",
   "language": "python",
   "name": "python3"
  },
  "language_info": {
   "codemirror_mode": {
    "name": "ipython",
    "version": 3
   },
   "file_extension": ".py",
   "mimetype": "text/x-python",
   "name": "python",
   "nbconvert_exporter": "python",
   "pygments_lexer": "ipython3",
   "version": "3.6.13"
  }
 },
 "nbformat": 4,
 "nbformat_minor": 5
}
