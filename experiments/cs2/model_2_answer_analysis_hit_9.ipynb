{
 "cells": [
  {
   "cell_type": "code",
   "execution_count": null,
   "metadata": {},
   "outputs": [],
   "source": [
    "from utils import *\n",
    "import pandas as pd\n",
    "import numpy as np\n",
    "from quica.measures.irr import *\n",
    "from quica.dataset.dataset import IRRDataset\n",
    "from quica.quica import Quica\n",
    "pd.set_option('display.float_format', str)\n",
    "np.random.seed(0)\n",
    "pd.set_option('max_colwidth', 400)\n"
   ]
  },
  {
   "cell_type": "code",
   "execution_count": null,
   "metadata": {},
   "outputs": [],
   "source": [
    "hit_9 = pd.read_csv(\"../data/crowdsourced/mechanical_turk/raw/hit_9_raw.csv\").query(\"status_internal=='APPROVED'\").reset_index(drop=True, inplace=False)\n"
   ]
  },
  {
   "cell_type": "code",
   "execution_count": null,
   "metadata": {},
   "outputs": [],
   "source": [
    "\n",
    "part_1 = transform_one_hot_df(hit_9, \n",
    "                     ['id_worker', 'question1_1_1.arg_a', 'question1_1_1.arg_b', 'question1_1_1.none'],\n",
    "                     'question1_1_1_answers')\n",
    "\n",
    "part_2 = transform_one_hot_df(hit_9, \n",
    "                     ['id_worker', 'question1_1_2.arg_a', 'question1_1_2.arg_b', 'question1_1_2.none'],\n",
    "                     'question1_1_2_answers')\n",
    "\n",
    "part_3 = transform_one_hot_df(hit_9, \n",
    "                     ['id_worker', 'question1_1_2.arg_a', 'question1_1_2.arg_b', 'question1_1_2.none'],\n",
    "                     'question1_1_2_answers')\n",
    "\n",
    "part_4 = transform_one_hot_df(hit_9, \n",
    "                     ['id_worker', 'question2_1_3.val1', 'question2_1_3.val2', 'question2_1_3.val3'],\n",
    "                     'question2_1_3_answers')\n",
    "\n",
    "\n",
    "part_5 = transform_one_hot_df(hit_9, \n",
    "                     ['id_worker', 'question2_2_3.val1', 'question2_2_3.val2', 'question2_2_3.val3'],\n",
    "                     'question2_2_3_answers')\n",
    "\n",
    "\n",
    "\n",
    "part_6 = transform_one_hot_df(hit_9, \n",
    "                     ['id_worker', 'question2_3_3.val1', 'question2_3_3.val2', 'question2_3_3.val3'],\n",
    "                     'question2_3_3_answers')\n",
    "\n",
    "\n",
    "part_7 = transform_one_hot_df(hit_9, \n",
    "                     ['id_worker', 'question2_4_3.val1', 'question2_4_3.val2', 'question2_4_3.val3'],\n",
    "                     'question2_4_3_answers')\n",
    "\n",
    "\n",
    "part_8 = transform_one_hot_df(hit_9, \n",
    "                     ['id_worker', 'question3_3_4.val1', 'question3_3_4.val2', 'question3_3_4.val3'],\n",
    "                     'question3_3_4_answers')\n",
    "\n",
    "\n",
    "\n",
    "bias_answers = pd.concat([part_1, part_2, part_3, part_4,\n",
    "                          part_5, part_6, part_7, part_8], axis=1).T.drop_duplicates().T\n",
    "bias_answers\n"
   ]
  },
  {
   "cell_type": "markdown",
   "metadata": {},
   "source": [
    "# === Part 2/5 (Stance Labeling) ==\n",
    "\n"
   ]
  },
  {
   "cell_type": "markdown",
   "metadata": {},
   "source": [
    "## 1. Which text is more one-sided?"
   ]
  },
  {
   "cell_type": "code",
   "execution_count": null,
   "metadata": {},
   "outputs": [],
   "source": [
    "question1_a = hit_9[['question3_3_4.val1']].value_counts().to_dict()\n",
    "question1_b = hit_9[['question3_3_4.val2']].value_counts().to_dict()\n",
    "question1_c = hit_9[['question3_3_4.val3']].value_counts().to_dict()\n",
    "\n",
    "\n",
    "q1 = {'Arg A': transform_dict(question1_a), \n",
    "      'Arg B': transform_dict(question1_b), \n",
    "      'None': transform_dict(question1_c)}\n",
    "\n",
    "print(q1)\n",
    "summary = get_summary_choice(q1)\n",
    "\n",
    "get_barchart(summary,  'Israeli military assault in Gaza', \n",
    "             'Which text is more one-sided? (None)', hit_9)\n"
   ]
  },
  {
   "cell_type": "code",
   "execution_count": null,
   "metadata": {},
   "outputs": [],
   "source": [
    "answers = bias_answers[\"question3_3_4_answers\"].tolist()\n",
    "id_workers = bias_answers[\"id_worker\"].tolist()\n",
    "\n",
    "df = pd.DataFrame(list(zip(answers, id_workers)), columns = ['answer', 'id_worker'])\n",
    "l = df.query(\"answer=='val1'\")['id_worker'].tolist()\n",
    "\n",
    "print(f\"successful workers list \\n{l}\")"
   ]
  },
  {
   "cell_type": "markdown",
   "metadata": {},
   "source": [
    "## 2. How sure you are?"
   ]
  },
  {
   "cell_type": "code",
   "execution_count": null,
   "metadata": {},
   "outputs": [],
   "source": [
    "question2_a = hit_9[['question3_4_4.val1']].value_counts().to_dict()\n",
    "question2_b = hit_9[['question3_4_4.val2']].value_counts().to_dict()\n",
    "question2_c = hit_9[['question3_4_4.val3']].value_counts().to_dict()\n",
    "\n",
    "\n",
    "q2 = {'Very sure': transform_dict(question2_a), \n",
    "      'Reasonable sure': transform_dict(question2_b), \n",
    "      'Unsure': transform_dict(question2_c)}\n",
    "\n",
    "print(q2)\n",
    "summary = get_summary_choice(q2)\n",
    "\n",
    "get_barchart(summary,  'Israeli military assault in Gaza', \n",
    "             'How sure you are?', hit_9)\n"
   ]
  },
  {
   "cell_type": "markdown",
   "metadata": {},
   "source": [
    "# === Part 3/5 ==\n",
    "\n"
   ]
  },
  {
   "cell_type": "markdown",
   "metadata": {},
   "source": [
    " \n",
    "## 1. Which text has more Pro stances (paragraphs that agree with the topic)?\n"
   ]
  },
  {
   "cell_type": "code",
   "execution_count": null,
   "metadata": {},
   "outputs": [],
   "source": [
    "question1_a = hit_9[['question2_1_3.val1']].value_counts().to_dict()\n",
    "question1_b = hit_9[['question2_1_3.val2']].value_counts().to_dict()\n",
    "question1_c = hit_9[['question2_1_3.val3']].value_counts().to_dict()\n",
    "\n",
    "\n",
    "\n",
    "q1 = {'Arg A': transform_dict(question1_a), \n",
    "      'Arg B': transform_dict(question1_b), \n",
    "      'None': transform_dict(question1_c)}\n",
    "\n",
    "print(q1)\n",
    "summary = get_summary_choice(q1)\n",
    "\n",
    "\n",
    "get_barchart(summary, 'Criminalization of Holocaust denial', \n",
    "             'Which text has more Pro stances (None)?',\n",
    "             hit_9)"
   ]
  },
  {
   "cell_type": "markdown",
   "metadata": {},
   "source": [
    "## 2. Which text has more Con stances (paragraphs that disagree with the topic)?"
   ]
  },
  {
   "cell_type": "code",
   "execution_count": null,
   "metadata": {},
   "outputs": [],
   "source": [
    "\n",
    "question1_a = hit_9[['question2_2_3.val1']].value_counts().to_dict()\n",
    "question1_b = hit_9[['question2_2_3.val2']].value_counts().to_dict()\n",
    "question1_c = hit_9[['question2_2_3.val3']].value_counts().to_dict()\n",
    "\n",
    "\n",
    "\n",
    "q1 = {'Arg A': transform_dict(question1_a), \n",
    "      'Arg B': transform_dict(question1_b), \n",
    "      'None': transform_dict(question1_c)}\n",
    "\n",
    "\n",
    "print(q1)\n",
    "summary = get_summary_choice(q1)\n",
    "\n",
    "\n",
    "get_barchart(summary, 'Infant male circumcision', \n",
    "             'Which text has more Con stances (None)?', hit_9)\n"
   ]
  },
  {
   "cell_type": "markdown",
   "metadata": {},
   "source": [
    "## 3. Which text is more one-sided?"
   ]
  },
  {
   "cell_type": "code",
   "execution_count": null,
   "metadata": {},
   "outputs": [],
   "source": [
    "question1_a = hit_9[['question2_3_3.val1']].value_counts().to_dict()\n",
    "question1_b = hit_9[['question2_3_3.val2']].value_counts().to_dict()\n",
    "question1_c = hit_9[['question2_3_3.val3']].value_counts().to_dict()\n",
    "\n",
    "\n",
    "\n",
    "q1 = {'Arg A': transform_dict(question1_a), \n",
    "      'Arg B': transform_dict(question1_b), \n",
    "      'None': transform_dict(question1_c)}\n",
    "\n",
    "print(q1)\n",
    "summary = get_summary_choice(q1)\n",
    "\n",
    "# Correct answer: (2, 0)\n",
    "get_barchart(summary, ' Criminalization of Holocaust denial ', 'Which text is more one-sided? (B)', hit_9)\n",
    "\n"
   ]
  },
  {
   "cell_type": "code",
   "execution_count": null,
   "metadata": {},
   "outputs": [],
   "source": [
    "topic1_question_3 = hit_9[['id_worker', 'question2_3_3.val1', 'question2_3_3.val2', 'question2_3_3.val3']]\n",
    "\n",
    "topic1_question_3 = topic1_question_3.set_index('id_worker')\n",
    "topic1_question_3 = topic1_question_3.dot(topic1_question_3.columns).to_frame('predicted').reset_index()\n",
    "\n",
    "\n",
    "topic1_question_3['predicted'] = topic1_question_3['predicted'].apply(lambda x: x.split('.')[1])\n",
    "topic1_question_3['true_val'] =  'val3'\n",
    "\n",
    "\n",
    "y_pred = topic1_question_3['predicted'].tolist()\n",
    "y_true = topic1_question_3['true_val'].tolist()\n",
    "print(\"Accuracy for topic 3: (Criminalization of Holocaust denial)\", accuracy_score(y_true, y_pred))\n",
    "# conf_mat(y_pred, y_true, ' Infant male circumcision ')\n",
    "\n"
   ]
  },
  {
   "cell_type": "markdown",
   "metadata": {},
   "source": [
    "## 4. How sure you are?"
   ]
  },
  {
   "cell_type": "code",
   "execution_count": null,
   "metadata": {},
   "outputs": [],
   "source": [
    "question1_a = hit_9[['question2_4_3.val1']].value_counts().to_dict()\n",
    "question1_b = hit_9[['question2_4_3.val2']].value_counts().to_dict()\n",
    "question1_c = hit_9[['question2_4_3.val3']].value_counts().to_dict()\n",
    "\n",
    "\n",
    "\n",
    "q1 = {'Very sure': transform_dict(question1_a), \n",
    "      'Reasonable sure': transform_dict(question1_b), \n",
    "      'Unsure': transform_dict(question1_c)}\n",
    "\n",
    "\n",
    "print(q1)\n",
    "summary = get_summary_choice(q1)\n",
    "\n",
    "\n",
    "get_barchart(summary, 'Criminalization of Holocaust denial', 'How sure you are?', hit_9)\n"
   ]
  },
  {
   "cell_type": "markdown",
   "metadata": {},
   "source": [
    "# === Part 4/5 ==\n",
    "\n",
    "\n",
    "##  1. Which text is more one-sided? "
   ]
  },
  {
   "cell_type": "code",
   "execution_count": null,
   "metadata": {},
   "outputs": [],
   "source": [
    "question1_a = hit_9[['question1_1_2.arg_a']].value_counts().to_dict()\n",
    "question1_b = hit_9[['question1_1_2.arg_b']].value_counts().to_dict()\n",
    "question1_c = hit_9[['question1_1_2.none']].value_counts().to_dict()\n",
    "\n",
    "\n",
    "\n",
    "q1 = {'A': transform_dict(question1_a), \n",
    "      'B': transform_dict(question1_b), \n",
    "      'None': transform_dict(question1_c)}\n",
    "\n",
    "\n",
    "print(q1)\n",
    "summary = get_summary_choice(q1)\n",
    "get_barchart(summary, 'Prohibition of downloading music and films', \n",
    "             'Which text is more onse-sided? (A)', hit_9)\n"
   ]
  },
  {
   "cell_type": "markdown",
   "metadata": {},
   "source": [
    "## 2. How sure you are?"
   ]
  },
  {
   "cell_type": "code",
   "execution_count": null,
   "metadata": {},
   "outputs": [],
   "source": [
    "\n",
    "question2_a = hit_9[['question1_2_2.val1']].value_counts().to_dict()\n",
    "question2_b = hit_9[['question1_2_2.val2']].value_counts().to_dict()\n",
    "question2_c = hit_9[['question1_2_2.val3']].value_counts().to_dict()\n",
    "\n",
    "\n",
    "q2 = {'Very sure': transform_dict(question2_a), \n",
    "      'Reasonable sure': transform_dict(question2_b), \n",
    "      'Unsure': transform_dict(question2_c)}\n",
    "\n",
    "print(q2)\n",
    "summary = get_summary_choice(q2)\n",
    "\n",
    "get_barchart(summary, 'Prohibition of downloading music and films', 'How sure you are?', hit_9)"
   ]
  },
  {
   "cell_type": "markdown",
   "metadata": {},
   "source": [
    "## 3. Please, explain your decision in question 1, why do you consider the selected option is more one-sided?"
   ]
  },
  {
   "cell_type": "code",
   "execution_count": null,
   "metadata": {},
   "outputs": [],
   "source": [
    "hit_9[['id_worker', 'question1_3_2']]"
   ]
  },
  {
   "cell_type": "markdown",
   "metadata": {},
   "source": [
    "# === Part 5/5 ==\n",
    "\n",
    "\n",
    "##  1. Which text is more one-sided? "
   ]
  },
  {
   "cell_type": "code",
   "execution_count": null,
   "metadata": {},
   "outputs": [],
   "source": [
    "question1_a = hit_9[['question1_1_1.arg_a']].value_counts().to_dict()\n",
    "question1_b = hit_9[['question1_1_1.arg_b']].value_counts().to_dict()\n",
    "question1_c = hit_9[['question1_1_1.none']].value_counts().to_dict()\n",
    "\n",
    "\n",
    "\n",
    "q1 = {'A': transform_dict(question1_a), \n",
    "      'B': transform_dict(question1_b), \n",
    "      'None': transform_dict(question1_c)}\n",
    "\n",
    "\n",
    "print(q1)\n",
    "summary = get_summary_choice(q1)\n",
    "get_barchart(summary, 'DC handgun ban', 'Which text is more onse-sided? (A)', hit_9)\n"
   ]
  },
  {
   "cell_type": "markdown",
   "metadata": {},
   "source": [
    "## 2. How sure you are?"
   ]
  },
  {
   "cell_type": "code",
   "execution_count": null,
   "metadata": {},
   "outputs": [],
   "source": [
    "\n",
    "question2_a = hit_9[['question1_2_1.val1']].value_counts().to_dict()\n",
    "question2_b = hit_9[['question1_2_1.val2']].value_counts().to_dict()\n",
    "question2_c = hit_9[['question1_2_1.val3']].value_counts().to_dict()\n",
    "\n",
    "\n",
    "q2 = {'Very sure': transform_dict(question2_a), \n",
    "      'Reasonable sure': transform_dict(question2_b), \n",
    "      'Unsure': transform_dict(question2_c)}\n",
    "\n",
    "print(q2)\n",
    "summary = get_summary_choice(q2)\n",
    "\n",
    "get_barchart(summary,  'DC handgun ban', 'How sure you are?', hit_9)"
   ]
  },
  {
   "cell_type": "code",
   "execution_count": null,
   "metadata": {},
   "outputs": [],
   "source": [
    "data = hit_9[['id_worker','question1_1_1.arg_a',\n",
    "              'question1_1_1.arg_b', 'question1_1_1.none']]\n",
    "\n",
    "\n",
    "dataframe = create_format_for_quica(data)\n",
    "\n",
    "quica = Quica(dataframe=dataframe)\n",
    "quica.get_results()"
   ]
  },
  {
   "cell_type": "code",
   "execution_count": null,
   "metadata": {},
   "outputs": [],
   "source": [
    "hit_9[['id_worker', 'question1_3_1']]"
   ]
  },
  {
   "cell_type": "code",
   "execution_count": null,
   "metadata": {},
   "outputs": [],
   "source": []
  },
  {
   "cell_type": "markdown",
   "metadata": {},
   "source": [
    "### Hasta aqui\n",
    "\n",
    "## Accuracy\n",
    "\n",
    "\n",
    "\n"
   ]
  },
  {
   "cell_type": "code",
   "execution_count": null,
   "metadata": {},
   "outputs": [],
   "source": [
    "from sklearn.metrics import accuracy_score\n",
    "from sklearn import preprocessing\n",
    "\n",
    "topic1_question_1 = hit_9[['id_worker', 'question1_1_2.arg_a', 'question1_1_2.arg_b', 'question1_1_2.none']]\n",
    "\n",
    "topic1_question_1 = topic1_question_1.set_index('id_worker')\n",
    "topic1_question_1 = topic1_question_1.dot(topic1_question_1.columns).to_frame('predicted').reset_index()\n",
    "\n",
    "topic1_question_1['predicted'] = topic1_question_1['predicted'].apply(lambda x: x.split('.')[1])\n",
    "topic1_question_1['true_val'] =  'arg_a'\n",
    "\n",
    "\n",
    "\n",
    "y_pred1 = topic1_question_1['predicted'].tolist()\n",
    "y_true1 = topic1_question_1['true_val'].tolist()\n",
    "print(\"Accuracy for topic 1 (Prohibition of downloading music and films):             \", accuracy_score(y_true1, y_pred1))\n",
    "\n"
   ]
  },
  {
   "cell_type": "code",
   "execution_count": null,
   "metadata": {},
   "outputs": [],
   "source": [
    "from sklearn.metrics import accuracy_score\n",
    "from sklearn import preprocessing\n",
    "\n",
    "topic1_question_1 = hit_9[['id_worker', 'question1_1_1.arg_a', 'question1_1_1.arg_b', 'question1_1_1.none']]\n",
    "\n",
    "topic1_question_1 = topic1_question_1.set_index('id_worker')\n",
    "topic1_question_1 = topic1_question_1.dot(topic1_question_1.columns).to_frame('predicted').reset_index()\n",
    "\n",
    "topic1_question_1['predicted'] = topic1_question_1['predicted'].apply(lambda x: x.split('.')[1])\n",
    "topic1_question_1['true_val'] =  'arg_a'\n",
    "\n",
    "\n",
    "# topic1_question_1\n",
    "y_pred1 = topic1_question_1['predicted'].tolist()\n",
    "y_true1 = topic1_question_1['true_val'].tolist()\n",
    "print(\"Accuracy for topic 2 (DC handgun ban):           \", accuracy_score(y_true1, y_pred1))\n",
    "\n"
   ]
  },
  {
   "cell_type": "markdown",
   "metadata": {},
   "source": [
    "## === Section 8 ===\n",
    "\n",
    "\n",
    "### Do you have any final thoughts?"
   ]
  },
  {
   "cell_type": "code",
   "execution_count": null,
   "metadata": {},
   "outputs": [],
   "source": [
    "hit_9[['id_worker', 'question1_3_last1']]\n"
   ]
  },
  {
   "cell_type": "markdown",
   "metadata": {},
   "source": [
    "### What did you learn about one-sidedness\n"
   ]
  },
  {
   "cell_type": "code",
   "execution_count": null,
   "metadata": {},
   "outputs": [],
   "source": [
    "hit_9[['id_worker', 'question1_3_last2']]"
   ]
  },
  {
   "cell_type": "markdown",
   "metadata": {},
   "source": [
    "## Timing"
   ]
  },
  {
   "cell_type": "code",
   "execution_count": null,
   "metadata": {
    "scrolled": true
   },
   "outputs": [],
   "source": [
    "\n",
    "timing = hit_9[['id_worker', 'time_elapsed_1', 'time_elapsed_2', 'time_elapsed_3', 'time_elapsed_id_4',\n",
    "                'time_elapsed_instructions', 'time_elapsed_last', 'time_elapsed_personal_stance',\n",
    "                'time_elapsed_profile']]\n",
    "\n",
    "\n",
    "\n",
    "df = timing.melt('id_worker', var_name='Timings',  value_name='seconds')\n",
    "g = sns.catplot(x=\"id_worker\", y=\"seconds\", hue='Timings', data=df, kind ='bar')\n",
    "g.set_xticklabels(rotation=90)\n",
    "g.set_yticklabels(size = 15)\n",
    "g.set_xticklabels(size = 18)\n",
    "g.set_xlabels(size = 20)\n",
    "g.set_ylabels(size = 20)\n",
    "\n",
    "g.fig.set_figwidth(18.27)\n",
    "g.fig.set_figheight(8.0)\n",
    "\n",
    "plt.setp(g._legend.get_title(), fontsize=30)\n",
    "plt.setp(g._legend.get_texts(), fontsize=25)"
   ]
  }
 ],
 "metadata": {
  "kernelspec": {
   "display_name": "Python 3",
   "language": "python",
   "name": "python3"
  },
  "language_info": {
   "codemirror_mode": {
    "name": "ipython",
    "version": 3
   },
   "file_extension": ".py",
   "mimetype": "text/x-python",
   "name": "python",
   "nbconvert_exporter": "python",
   "pygments_lexer": "ipython3",
   "version": "3.6.13"
  }
 },
 "nbformat": 4,
 "nbformat_minor": 4
}
