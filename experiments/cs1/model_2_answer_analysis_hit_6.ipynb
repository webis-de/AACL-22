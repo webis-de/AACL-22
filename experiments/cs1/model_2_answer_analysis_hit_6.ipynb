{
 "cells": [
  {
   "cell_type": "code",
   "execution_count": null,
   "metadata": {},
   "outputs": [],
   "source": [
    "from utils import *\n",
    "import pandas as pd\n",
    "import numpy as np\n",
    "from quica.measures.irr import *\n",
    "from quica.dataset.dataset import IRRDataset\n",
    "from quica.quica import Quica\n",
    "pd.set_option('display.float_format', str)\n",
    "np.random.seed(0)\n",
    "pd.set_option('max_colwidth', 400)\n"
   ]
  },
  {
   "cell_type": "code",
   "execution_count": null,
   "metadata": {},
   "outputs": [],
   "source": [
    "hit_6 = pd.read_csv(\"../data/crowdsourced/mechanical_turk/raw/hit_6_raw.csv\").query(\"status_internal=='APPROVED'\").reset_index(drop=True, inplace=False).head(9)\n",
    "\n"
   ]
  },
  {
   "cell_type": "code",
   "execution_count": null,
   "metadata": {},
   "outputs": [],
   "source": [
    "\n",
    "part_1 = transform_one_hot_df(hit_6, \n",
    "                     ['id_worker', 'question1_1_1.arg_a', 'question1_1_1.arg_b', 'question1_1_1.none'],\n",
    "                     'question1_1_1_answers')\n",
    "\n",
    "part_2 = transform_one_hot_df(hit_6, \n",
    "                     ['id_worker', 'question1_1_2.arg_a', 'question1_1_2.arg_b', 'question1_1_2.none'],\n",
    "                     'question1_1_2_answers')\n",
    "\n",
    "part_3 = transform_one_hot_df(hit_6, \n",
    "                     ['id_worker', 'question1_1_2.arg_a', 'question1_1_2.arg_b', 'question1_1_2.none'],\n",
    "                     'question1_1_2_answers')\n",
    "\n",
    "\n",
    "part_4 = transform_one_hot_df(hit_6, \n",
    "                     ['id_worker', 'question2_1_3.val1', 'question2_1_3.val2', 'question2_1_3.val3'],\n",
    "                     'question2_1_3_answers')\n",
    "\n",
    "\n",
    "part_5 = transform_one_hot_df(hit_6, \n",
    "                     ['id_worker', 'question2_2_3.val1', 'question2_2_3.val2', 'question2_2_3.val3'],\n",
    "                     'question2_2_3_answers')\n",
    "\n",
    "\n",
    "\n",
    "part_6 = transform_one_hot_df(hit_6, \n",
    "                     ['id_worker', 'question2_3_3.val1', 'question2_3_3.val2', 'question2_3_3.val3'],\n",
    "                     'question2_3_3_answers')\n",
    "\n",
    "\n",
    "part_7 = transform_one_hot_df(hit_6, \n",
    "                     ['id_worker', 'question2_4_3.val1', 'question2_4_3.val2', 'question2_4_3.val3'],\n",
    "                     'question2_4_3_answers')\n",
    "\n",
    "\n",
    "part_8 = transform_one_hot_df(hit_6, \n",
    "                     ['id_worker', 'question3_3_4.val1', 'question3_3_4.val2', 'question3_3_4.val3'],\n",
    "                     'question3_3_4_answers')\n",
    "\n",
    "\n",
    "part_9 = transform_one_hot_df(hit_6, \n",
    "                     ['id_worker', 'question1_1_repeatedLabeled1.no', 'question1_1_repeatedLabeled1.none', 'question1_1_repeatedLabeled1.yes'],\n",
    "                     'question1_1_repeatedLabeled1_answers')\n",
    "\n",
    "part_10 = transform_one_hot_df(hit_6, \n",
    "                     ['id_worker', 'question1_2_repeatedLabeled1.val1', 'question1_2_repeatedLabeled1.val2', 'question1_2_repeatedLabeled1.val3'],\n",
    "                     'question1_2_repeatedLabeled1_answers')\n",
    "\n",
    "\n",
    "\n",
    "bias_answers = pd.concat([part_1, part_2, part_3, part_4,\n",
    "                          part_5, part_6, part_7, part_8,\n",
    "                          part_9, part_10], axis=1).T.drop_duplicates().T\n",
    "bias_answers\n"
   ]
  },
  {
   "cell_type": "markdown",
   "metadata": {},
   "source": [
    "# === Part 3/8 ==\n",
    "\n"
   ]
  },
  {
   "cell_type": "markdown",
   "metadata": {},
   "source": [
    "## 1. Which text is more one-sided?"
   ]
  },
  {
   "cell_type": "code",
   "execution_count": null,
   "metadata": {},
   "outputs": [],
   "source": [
    "question1_a = hit_6[['question1_1_1.arg_a']].value_counts().to_dict()\n",
    "question1_b = hit_6[['question1_1_1.arg_b']].value_counts().to_dict()\n",
    "question1_c = hit_6[['question1_1_1.none']].value_counts().to_dict()\n",
    "\n",
    "q1 = {'Arg A': transform_dict(question1_a), \n",
    "      'Arg B': transform_dict(question1_b), \n",
    "      'None': transform_dict(question1_c)}\n",
    "\n",
    "print(q1)\n",
    "summary = get_summary_choice(q1)\n",
    "\n",
    "get_barchart(summary, 'Compulsory vaccination', \n",
    "             'Which text is more one-sided? (B)', hit_6)\n"
   ]
  },
  {
   "cell_type": "markdown",
   "metadata": {},
   "source": [
    "## 2. How sure you are?"
   ]
  },
  {
   "cell_type": "code",
   "execution_count": null,
   "metadata": {},
   "outputs": [],
   "source": [
    "question2_a = hit_6[['question1_2_1.val1']].value_counts().to_dict()\n",
    "question2_b = hit_6[['question1_2_1.val2']].value_counts().to_dict()\n",
    "question2_c = hit_6[['question1_2_1.val3']].value_counts().to_dict()\n",
    "\n",
    "\n",
    "q2 = {'Very sure': transform_dict(question2_a), \n",
    "      'Reasonable sure': transform_dict(question2_b), \n",
    "      'Unsure': transform_dict(question2_c)}\n",
    "\n",
    "print(q2)\n",
    "summary = get_summary_choice(q2)\n",
    "\n",
    "get_barchart(summary, 'Compulsory vaccination', \n",
    "             'How sure you are?', hit_6)\n"
   ]
  },
  {
   "cell_type": "markdown",
   "metadata": {},
   "source": [
    "## 3. Please, explain your decision in question 1, why do you consider the selected option is more one-sided?"
   ]
  },
  {
   "cell_type": "code",
   "execution_count": null,
   "metadata": {
    "scrolled": false
   },
   "outputs": [],
   "source": [
    "hit_6[['id_worker', 'question1_3_1']]"
   ]
  },
  {
   "cell_type": "markdown",
   "metadata": {},
   "source": [
    "# === Part 4/8 ==\n",
    "\n"
   ]
  },
  {
   "cell_type": "markdown",
   "metadata": {},
   "source": [
    "## 1. Which text is more one-sided?"
   ]
  },
  {
   "cell_type": "code",
   "execution_count": null,
   "metadata": {},
   "outputs": [],
   "source": [
    "question1_a = hit_6[['question1_1_2.arg_a']].value_counts().to_dict()\n",
    "question1_b = hit_6[['question1_1_2.arg_b']].value_counts().to_dict()\n",
    "question1_c = hit_6[['question1_1_2.none']].value_counts().to_dict()\n",
    "\n",
    "\n",
    "\n",
    "q1 = {'A': transform_dict(question1_a), \n",
    "      'B': transform_dict(question1_b), \n",
    "      'None': transform_dict(question1_c)}\n",
    "\n",
    "\n"
   ]
  },
  {
   "cell_type": "code",
   "execution_count": null,
   "metadata": {},
   "outputs": [],
   "source": [
    "summary = get_summary_choice(q1)\n",
    "\n",
    "get_barchart(summary, 'Israeli blockade of Gaza', 'Which text is more one-sided? (none)', hit_6)"
   ]
  },
  {
   "cell_type": "markdown",
   "metadata": {},
   "source": [
    "## 2. How sure you are?"
   ]
  },
  {
   "cell_type": "code",
   "execution_count": null,
   "metadata": {},
   "outputs": [],
   "source": [
    "\n",
    "question2_a = hit_6[['question1_2_2.val1']].value_counts().to_dict()\n",
    "question2_b = hit_6[['question1_2_2.val2']].value_counts().to_dict()\n",
    "question2_c = hit_6[['question1_2_2.val3']].value_counts().to_dict()\n",
    "\n",
    "\n",
    "q2 = {'Very sure': transform_dict(question2_a), \n",
    "      'Reasonable sure': transform_dict(question2_b), \n",
    "      'Unsure': transform_dict(question2_c)}\n",
    "\n",
    "print(q2)\n",
    "summary = get_summary_choice(q2)\n",
    "\n",
    "get_barchart(summary, 'Israeli blockade of Gaza', 'How sure you are?', hit_6)"
   ]
  },
  {
   "cell_type": "markdown",
   "metadata": {},
   "source": [
    "## 3. Please, explain your decision in question 1, why do you consider the selected option is more one-sided?"
   ]
  },
  {
   "cell_type": "code",
   "execution_count": null,
   "metadata": {},
   "outputs": [],
   "source": [
    "hit_6[['id_worker', 'question1_3_2']]"
   ]
  },
  {
   "cell_type": "markdown",
   "metadata": {},
   "source": [
    "## Accuracy"
   ]
  },
  {
   "cell_type": "code",
   "execution_count": null,
   "metadata": {},
   "outputs": [],
   "source": [
    "from sklearn.metrics import accuracy_score\n",
    "from sklearn import preprocessing\n",
    "\n",
    "topic1_question_1 = hit_6[['id_worker', 'question1_1_1.arg_a', 'question1_1_1.arg_b', 'question1_1_1.none']]\n",
    "\n",
    "topic1_question_1 = topic1_question_1.set_index('id_worker')\n",
    "topic1_question_1 = topic1_question_1.dot(topic1_question_1.columns).to_frame('predicted').reset_index()\n",
    "\n",
    "topic1_question_1['predicted'] = topic1_question_1['predicted'].apply(lambda x: x.split('.')[1])\n",
    "topic1_question_1['true_val'] =  'arg_b'\n",
    "\n",
    "\n",
    "\n",
    "y_pred1 = topic1_question_1['predicted'].tolist()\n",
    "y_true1 = topic1_question_1['true_val'].tolist()\n",
    "print(\"Accuracy for topic 1 (Compulsory vaccination):             \", accuracy_score(y_true1, y_pred1))\n",
    "\n",
    "\n",
    "\n",
    "topic2_question_2 = hit_6[['id_worker', 'question1_1_2.arg_a', 'question1_1_2.arg_b', 'question1_1_2.none']]\n",
    "\n",
    "topic2_question_2 = topic2_question_2.set_index('id_worker')\n",
    "topic2_question_2 = topic2_question_2.dot(topic2_question_2.columns).to_frame('predicted').reset_index()\n",
    "\n",
    "topic2_question_2['predicted'] = topic2_question_2['predicted'].apply(lambda x: x.split('.')[1])\n",
    "topic2_question_2['true_val'] =  'none'\n",
    "\n",
    "\n",
    "y_pred2 = topic2_question_2['predicted'].tolist()\n",
    "y_true2 = topic2_question_2['true_val'].tolist()\n",
    "print(\"Accuracy for topic 2 (Israeli blockade of Gaza):\", accuracy_score(y_true2, y_pred2))\n"
   ]
  },
  {
   "cell_type": "markdown",
   "metadata": {},
   "source": [
    "# === Part 4/8 Analysis ===\n"
   ]
  },
  {
   "cell_type": "markdown",
   "metadata": {},
   "source": [
    " \n",
    "## 1. Which text has more Pro stances (paragraphs that agree with the topic)?\n"
   ]
  },
  {
   "cell_type": "code",
   "execution_count": null,
   "metadata": {},
   "outputs": [],
   "source": [
    "question1_a = hit_6[['question2_1_3.val1']].value_counts().to_dict()\n",
    "question1_b = hit_6[['question2_1_3.val2']].value_counts().to_dict()\n",
    "question1_c = hit_6[['question2_1_3.val3']].value_counts().to_dict()\n",
    "\n",
    "\n",
    "\n",
    "q1 = {'Arg A': transform_dict(question1_a), \n",
    "      'Arg B': transform_dict(question1_b), \n",
    "      'None': transform_dict(question1_c)}\n",
    "\n",
    "summary = get_summary_choice(q1)\n",
    "\n",
    "\n",
    "get_barchart(summary, 'Resolved: That on balance, the No Child Left Behind Act of 2001 has improved academic achievement in the United States', \n",
    "             'Which text has more Pro stances? (B)',\n",
    "             hit_6)"
   ]
  },
  {
   "cell_type": "markdown",
   "metadata": {},
   "source": [
    "## 2. Which text has more Con stances (paragraphs that disagree with the topic)?"
   ]
  },
  {
   "cell_type": "code",
   "execution_count": null,
   "metadata": {},
   "outputs": [],
   "source": [
    "\n",
    "question1_a = hit_6[['question2_2_3.val1']].value_counts().to_dict()\n",
    "question1_b = hit_6[['question2_2_3.val2']].value_counts().to_dict()\n",
    "question1_c = hit_6[['question2_2_3.val3']].value_counts().to_dict()\n",
    "\n",
    "\n",
    "\n",
    "q1 = {'Arg A': transform_dict(question1_a), \n",
    "      'Arg B': transform_dict(question1_b), \n",
    "      'None': transform_dict(question1_c)}\n",
    "\n",
    "\n",
    "summary = get_summary_choice(q1)\n",
    "\n",
    "\n",
    "get_barchart(summary, 'Resolved: That on balance, the No Child Left Behind Act of 2001 has improved academic achievement in the United States', \n",
    "             'Which text has more Con stances? (A)', hit_6)\n"
   ]
  },
  {
   "cell_type": "markdown",
   "metadata": {},
   "source": [
    "## 3. Which text is more one-sided?"
   ]
  },
  {
   "cell_type": "code",
   "execution_count": null,
   "metadata": {},
   "outputs": [],
   "source": [
    "question1_a = hit_6[['question2_3_3.val1']].value_counts().to_dict()\n",
    "question1_b = hit_6[['question2_3_3.val2']].value_counts().to_dict()\n",
    "question1_c = hit_6[['question2_3_3.val3']].value_counts().to_dict()\n",
    "\n",
    "\n",
    "\n",
    "q1 = {'Arg A': transform_dict(question1_a), \n",
    "      'Arg B': transform_dict(question1_b), \n",
    "      'None': transform_dict(question1_c)}\n",
    "\n",
    "print(q1)\n",
    "summary = get_summary_choice(q1)\n",
    "\n",
    "\n",
    "get_barchart(summary, 'Resolved: That on balance, the No Child Left Behind Act of 2001 has improved academic achievement in the United States', 'Which text is more one-sided? (A)', hit_6)\n",
    "\n"
   ]
  },
  {
   "cell_type": "code",
   "execution_count": null,
   "metadata": {},
   "outputs": [],
   "source": [
    "topic1_question_3 = hit_6[['id_worker', 'question2_3_3.val1', 'question2_3_3.val2', 'question2_3_3.val3']]\n",
    "\n",
    "topic1_question_3 = topic1_question_3.set_index('id_worker')\n",
    "topic1_question_3 = topic1_question_3.dot(topic1_question_3.columns).to_frame('predicted').reset_index()\n",
    "\n",
    "\n",
    "topic1_question_3['predicted'] = topic1_question_3['predicted'].apply(lambda x: x.split('.')[1])\n",
    "topic1_question_3['true_val'] =  'val1'\n",
    "\n",
    "\n",
    "y_pred = topic1_question_3['predicted'].tolist()\n",
    "y_true = topic1_question_3['true_val'].tolist()\n",
    "print(\"Accuracy for topic 3:\", accuracy_score(y_true, y_pred))\n",
    "conf_mat(y_pred, y_true, 'Resolved: That on balance, the No Child Left Behind Act of 2001 has improved academic achievement in the United States')"
   ]
  },
  {
   "cell_type": "markdown",
   "metadata": {},
   "source": [
    "## 4. How sure you are?"
   ]
  },
  {
   "cell_type": "code",
   "execution_count": null,
   "metadata": {},
   "outputs": [],
   "source": [
    "question1_a = hit_6[['question2_4_3.val1']].value_counts().to_dict()\n",
    "question1_b = hit_6[['question2_4_3.val2']].value_counts().to_dict()\n",
    "question1_c = hit_6[['question2_4_3.val3']].value_counts().to_dict()\n",
    "\n",
    "\n",
    "\n",
    "q1 = {'Very sure': transform_dict(question1_a), \n",
    "      'Reasonable sure': transform_dict(question1_b), \n",
    "      'Unsure': transform_dict(question1_c)}\n",
    "\n",
    "\n",
    "summary = get_summary_choice(q1)\n",
    "\n",
    "\n",
    "get_barchart(summary, 'Resolved: That on balance, the No Child Left Behind Act of 2001 has improved academic achievement in the United States', 'How sure you are?', hit_6)\n"
   ]
  },
  {
   "cell_type": "markdown",
   "metadata": {},
   "source": [
    "# === Part 6/8 ===\n"
   ]
  },
  {
   "cell_type": "markdown",
   "metadata": {},
   "source": [
    "## 1. Which text is more one-sided? "
   ]
  },
  {
   "cell_type": "code",
   "execution_count": null,
   "metadata": {},
   "outputs": [],
   "source": [
    "# question3_3_4\n",
    "\n",
    "question1_a = hit_6[['question3_3_4.val1']].value_counts().to_dict()\n",
    "question1_b = hit_6[['question3_3_4.val2']].value_counts().to_dict()\n",
    "question1_c = hit_6[['question3_3_4.val3']].value_counts().to_dict()\n",
    "\n",
    "\n",
    "\n",
    "q1 = {'Arg A': transform_dict(question1_a), \n",
    "      'Arg B': transform_dict(question1_b), \n",
    "      'None': transform_dict(question1_c)}\n",
    "\n",
    "summary = get_summary_choice(q1)\n",
    "\n",
    "\n",
    "get_barchart(summary, ' Landmines in the Korean Demilitarized Zone', 'Which text is more one-sided? (none)', hit_6)\n",
    "\n",
    "sub_task_distro = '2:2'\n"
   ]
  },
  {
   "cell_type": "markdown",
   "metadata": {},
   "source": [
    "##  2. How sure you are? "
   ]
  },
  {
   "cell_type": "code",
   "execution_count": null,
   "metadata": {},
   "outputs": [],
   "source": [
    "# question3_3_4\n",
    "\n",
    "question1_a = hit_6[['question3_4_4.val1']].value_counts().to_dict()\n",
    "question1_b = hit_6[['question3_4_4.val2']].value_counts().to_dict()\n",
    "question1_c = hit_6[['question3_4_4.val3']].value_counts().to_dict()\n",
    "\n",
    "\n",
    "\n",
    "q1 = {' Very sure ': transform_dict(question1_a), \n",
    "      'Reasonable sure ': transform_dict(question1_b), \n",
    "      'Unsure': transform_dict(question1_c)}\n",
    "\n",
    "summary = get_summary_choice(q1)\n",
    "\n",
    "\n",
    "get_barchart(summary, ' Landmines in the Korean Demilitarized Zone', 'How sure you are?', hit_6)\n",
    "\n"
   ]
  },
  {
   "cell_type": "markdown",
   "metadata": {},
   "source": [
    "# == Section 6/6 ==\n",
    "\n",
    "### 1. We believe that A is more one-sided, are you agree? "
   ]
  },
  {
   "cell_type": "code",
   "execution_count": null,
   "metadata": {},
   "outputs": [],
   "source": [
    "# question3_3_4\n",
    "\n",
    "question1_a = hit_6[['question1_1_repeatedLabeled1.yes']].value_counts().to_dict()\n",
    "question1_b = hit_6[['question1_1_repeatedLabeled1.no']].value_counts().to_dict()\n",
    "question1_c = hit_6[['question1_1_repeatedLabeled1.none']].value_counts().to_dict()\n",
    "\n",
    "\n",
    "\n",
    "q1 = {'Yes': transform_dict(question1_a), \n",
    "      'No': transform_dict(question1_b), \n",
    "      'Unsure': transform_dict(question1_c)}\n",
    "\n",
    "summary = get_summary_choice(q1)\n",
    "\n",
    "get_barchart(summary, 'Compulsory Vaccination',\n",
    "             'We believe that A is more one-sided, are you agree? (No)', hit_6)"
   ]
  },
  {
   "cell_type": "markdown",
   "metadata": {},
   "source": [
    "## How sure you are? "
   ]
  },
  {
   "cell_type": "code",
   "execution_count": null,
   "metadata": {},
   "outputs": [],
   "source": [
    "\n",
    "question1_a = hit_6[['question1_2_repeatedLabeled1.val1']].value_counts().to_dict()\n",
    "question1_b = hit_6[['question1_2_repeatedLabeled1.val2']].value_counts().to_dict()\n",
    "question1_c = hit_6[['question1_2_repeatedLabeled1.val3']].value_counts().to_dict()\n",
    "\n",
    "\n",
    "\n",
    "q1 = {\n",
    "    'Very sure': transform_dict(question1_a),\n",
    "    'Reasonable sure': transform_dict(question1_b),\n",
    "    'Unsure': transform_dict(question1_c)\n",
    "     }\n",
    "\n",
    "summary = get_summary_choice(q1)\n",
    "\n",
    "get_barchart(summary, 'Compulsory Vaccination', 'How sure you are?', hit_6)"
   ]
  },
  {
   "cell_type": "markdown",
   "metadata": {},
   "source": [
    "### 3. Please explain your decision in Question 1. Why do you consider the selected text more one-sided (explain your decision in more than 6 words)? "
   ]
  },
  {
   "cell_type": "code",
   "execution_count": null,
   "metadata": {},
   "outputs": [],
   "source": [
    "hit_6[['id_worker','question1_3_repeatedLabeled1']]"
   ]
  },
  {
   "cell_type": "markdown",
   "metadata": {},
   "source": [
    "## === Section 8 ===\n",
    "\n",
    "\n",
    "### Do you have any final thoughts?"
   ]
  },
  {
   "cell_type": "code",
   "execution_count": null,
   "metadata": {},
   "outputs": [],
   "source": [
    "hit_6[['id_worker', 'question1_3_last1']]\n"
   ]
  },
  {
   "cell_type": "markdown",
   "metadata": {},
   "source": [
    "### What did you learn about one-sidedness\n"
   ]
  },
  {
   "cell_type": "code",
   "execution_count": null,
   "metadata": {},
   "outputs": [],
   "source": [
    "hit_6[['id_worker', 'question1_3_last2']]"
   ]
  },
  {
   "cell_type": "markdown",
   "metadata": {},
   "source": [
    "## Timing"
   ]
  },
  {
   "cell_type": "code",
   "execution_count": null,
   "metadata": {},
   "outputs": [],
   "source": [
    "\n",
    "timing = hit_6[['id_worker', 'time_elapsed_1', 'time_elapsed_2', 'time_elapsed_3', 'time_elapsed_id_4',\n",
    "                'time_elapsed_instructions', 'time_elapsed_last', 'time_elapsed_personal_stance',\n",
    "                'time_elapsed_profile']]\n",
    "\n",
    "\n",
    "\n",
    "df = timing.melt('id_worker', var_name='Timings',  value_name='seconds')\n",
    "g = sns.catplot(x=\"id_worker\", y=\"seconds\", hue='Timings', data=df, kind ='bar')\n",
    "g.set_xticklabels(rotation=90)\n",
    "g.set_yticklabels(size = 15)\n",
    "g.set_xticklabels(size = 18)\n",
    "g.set_xlabels(size = 20)\n",
    "g.set_ylabels(size = 20)\n",
    "\n",
    "g.fig.set_figwidth(18.27)\n",
    "g.fig.set_figheight(8.0)\n",
    "\n",
    "plt.setp(g._legend.get_title(), fontsize=30)\n",
    "plt.setp(g._legend.get_texts(), fontsize=25)"
   ]
  }
 ],
 "metadata": {
  "kernelspec": {
   "display_name": "Python 3",
   "language": "python",
   "name": "python3"
  },
  "language_info": {
   "codemirror_mode": {
    "name": "ipython",
    "version": 3
   },
   "file_extension": ".py",
   "mimetype": "text/x-python",
   "name": "python",
   "nbconvert_exporter": "python",
   "pygments_lexer": "ipython3",
   "version": "3.6.13"
  }
 },
 "nbformat": 4,
 "nbformat_minor": 4
}
